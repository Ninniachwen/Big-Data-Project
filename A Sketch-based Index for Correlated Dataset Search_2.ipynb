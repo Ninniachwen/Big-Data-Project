{
 "cells": [
  {
   "cell_type": "code",
   "execution_count": 2,
   "id": "9eefc4aa",
   "metadata": {},
   "outputs": [],
   "source": [
    "# paper name\n",
    "\n",
    "# motivation (of paper)\n",
    "\n",
    "# walkthrough\n",
    "# am beispiel Lebenserwartung..."
   ]
  },
  {
   "cell_type": "code",
   "execution_count": 16,
   "id": "5151c483",
   "metadata": {},
   "outputs": [],
   "source": [
    "#############################################\n",
    "# imports                                   #\n",
    "#############################################\n",
    "\n",
    "from typing import List\n",
    "import heapq\n",
    "from collections import defaultdict\n",
    "import pandas as pd\n",
    "import qcr\n",
    "from collections import Counter\n",
    "\n",
    "from qcr import load_index, save_index, load_tables, get_kc, get_c, load_query, get_table_id, hash_function, build_index\n"
   ]
  },
  {
   "cell_type": "markdown",
   "id": "37081b98",
   "metadata": {
    "pycharm": {
     "name": "#%% md\n"
    }
   },
   "source": [
    "## A Sketch-based Index for Correlated Dataset Search\n",
    "\n",
    "### Motivation\n",
    "\n",
    "With the ever-rising amount of data available, recent researched explored queries where we want to enlarge our dataset by finding related data. This means finding the top-k tables which are joinable and correlated to our inital dataset. As these searches can be quite long they propose a more efficient and effective way of finding these tables than just naively querying over the whole data collection, which might take quite a bit. Their proposed idea has shown to achieve better results than other approaches regarding ranking accruacy and recall. \n",
    "In this notebook we want to offer you an understandable explanation of the proposed Solution and hope you are able to grasp all of it.\n",
    "\n",
    "### Discovering Data with joinable keys and correlated data.\n",
    "\n",
    "Steps of the algorithm:\n",
    "1. build index of tables in DB\n",
    "    - split larger tables into 2-col-tables (cross product)\n",
    "    - creating a sketch of size n of each table in the Database\n",
    "    - build the index\n",
    "    \n",
    "    \n",
    "2. query\n",
    "    - creating a sketch of the query table\n",
    "    - find correlated and joinable tables for the query-table\n",
    "(finding set overlap between the two sketches ?)\n",
    "    "
   ]
  },
  {
   "cell_type": "markdown",
   "id": "a4604d91",
   "metadata": {},
   "source": [
    "### building the index:\n",
    "\n",
    "1. all tables with more then 2 columns are split:\n",
    "    - all numerical columns are combined with all columns containig categorical values\n",
    "<br>\n",
    "2. all numeric values (k) per table are hashed and stored as tuple with their categorical value (=key) c_k\n",
    "    - <h(k), c_k>\n",
    "    - for performance reason the sketch size is applied here: only the smallest n hashed calues are kept\n",
    "<br>    \n",
    "3. all categorical keys (c_k) are modified according to their hashed values (h(k))\n",
    "    - if the hashed value is below or above the median of all table values, c_k is categorized in -c_k or +c_k respectively\n",
    "    - <h(k), +/-c_k>\n",
    "    - this is used to identify corrolation\n",
    "<br>\n",
    "4. picking a specific sample (=sketch) of size n per table, using n tuples with smallest hash-value\n",
    "    - this way the samples are comparable\n"
   ]
  },
  {
   "cell_type": "markdown",
   "id": "ef13162b",
   "metadata": {},
   "source": [
    "#### Step 1\n",
    "In this example we want to find data correlating to the life expectancy in certain countries. \n",
    "We start by building the index. Therefore we first load 3 tables conatining example data. "
   ]
  },
  {
   "cell_type": "code",
   "execution_count": 31,
   "id": "8527c238",
   "metadata": {},
   "outputs": [
    {
     "data": {
      "text/html": [
       "<div>\n",
       "<style scoped>\n",
       "    .dataframe tbody tr th:only-of-type {\n",
       "        vertical-align: middle;\n",
       "    }\n",
       "\n",
       "    .dataframe tbody tr th {\n",
       "        vertical-align: top;\n",
       "    }\n",
       "\n",
       "    .dataframe thead th {\n",
       "        text-align: right;\n",
       "    }\n",
       "</style>\n",
       "<table border=\"1\" class=\"dataframe\">\n",
       "  <thead>\n",
       "    <tr style=\"text-align: right;\">\n",
       "      <th>t1</th>\n",
       "      <th>Country</th>\n",
       "      <th>Alcohol</th>\n",
       "    </tr>\n",
       "  </thead>\n",
       "  <tbody>\n",
       "    <tr>\n",
       "      <th>0</th>\n",
       "      <td>Armenia</td>\n",
       "      <td>3.702667</td>\n",
       "    </tr>\n",
       "    <tr>\n",
       "      <th>1</th>\n",
       "      <td>Colombia</td>\n",
       "      <td>4.419333</td>\n",
       "    </tr>\n",
       "    <tr>\n",
       "      <th>2</th>\n",
       "      <td>Equatorial Guinea</td>\n",
       "      <td>7.342000</td>\n",
       "    </tr>\n",
       "    <tr>\n",
       "      <th>3</th>\n",
       "      <td>Germany</td>\n",
       "      <td>11.628667</td>\n",
       "    </tr>\n",
       "    <tr>\n",
       "      <th>4</th>\n",
       "      <td>Kazakhstan</td>\n",
       "      <td>6.641333</td>\n",
       "    </tr>\n",
       "    <tr>\n",
       "      <th>5</th>\n",
       "      <td>Montenegro</td>\n",
       "      <td>2.584286</td>\n",
       "    </tr>\n",
       "    <tr>\n",
       "      <th>6</th>\n",
       "      <td>Nicaragua</td>\n",
       "      <td>3.596667</td>\n",
       "    </tr>\n",
       "    <tr>\n",
       "      <th>7</th>\n",
       "      <td>Nigeria</td>\n",
       "      <td>8.646667</td>\n",
       "    </tr>\n",
       "    <tr>\n",
       "      <th>8</th>\n",
       "      <td>Paraguay</td>\n",
       "      <td>5.527333</td>\n",
       "    </tr>\n",
       "    <tr>\n",
       "      <th>9</th>\n",
       "      <td>United States of America</td>\n",
       "      <td>8.579333</td>\n",
       "    </tr>\n",
       "  </tbody>\n",
       "</table>\n",
       "</div>"
      ],
      "text/plain": [
       "t1                   Country    Alcohol\n",
       "0                    Armenia   3.702667\n",
       "1                   Colombia   4.419333\n",
       "2          Equatorial Guinea   7.342000\n",
       "3                    Germany  11.628667\n",
       "4                 Kazakhstan   6.641333\n",
       "5                 Montenegro   2.584286\n",
       "6                  Nicaragua   3.596667\n",
       "7                    Nigeria   8.646667\n",
       "8                   Paraguay   5.527333\n",
       "9   United States of America   8.579333"
      ]
     },
     "metadata": {},
     "output_type": "display_data"
    },
    {
     "data": {
      "text/html": [
       "<div>\n",
       "<style scoped>\n",
       "    .dataframe tbody tr th:only-of-type {\n",
       "        vertical-align: middle;\n",
       "    }\n",
       "\n",
       "    .dataframe tbody tr th {\n",
       "        vertical-align: top;\n",
       "    }\n",
       "\n",
       "    .dataframe thead th {\n",
       "        text-align: right;\n",
       "    }\n",
       "</style>\n",
       "<table border=\"1\" class=\"dataframe\">\n",
       "  <thead>\n",
       "    <tr style=\"text-align: right;\">\n",
       "      <th>t2</th>\n",
       "      <th>Country</th>\n",
       "      <th>BMI</th>\n",
       "    </tr>\n",
       "  </thead>\n",
       "  <tbody>\n",
       "    <tr>\n",
       "      <th>0</th>\n",
       "      <td>Armenia</td>\n",
       "      <td>44.70625</td>\n",
       "    </tr>\n",
       "    <tr>\n",
       "      <th>1</th>\n",
       "      <td>Colombia</td>\n",
       "      <td>49.54375</td>\n",
       "    </tr>\n",
       "    <tr>\n",
       "      <th>2</th>\n",
       "      <td>Equatorial Guinea</td>\n",
       "      <td>17.85625</td>\n",
       "    </tr>\n",
       "    <tr>\n",
       "      <th>3</th>\n",
       "      <td>Germany</td>\n",
       "      <td>51.99375</td>\n",
       "    </tr>\n",
       "    <tr>\n",
       "      <th>4</th>\n",
       "      <td>Kazakhstan</td>\n",
       "      <td>45.15625</td>\n",
       "    </tr>\n",
       "    <tr>\n",
       "      <th>5</th>\n",
       "      <td>Montenegro</td>\n",
       "      <td>50.48750</td>\n",
       "    </tr>\n",
       "    <tr>\n",
       "      <th>6</th>\n",
       "      <td>Nicaragua</td>\n",
       "      <td>42.68125</td>\n",
       "    </tr>\n",
       "    <tr>\n",
       "      <th>7</th>\n",
       "      <td>Nigeria</td>\n",
       "      <td>19.75000</td>\n",
       "    </tr>\n",
       "    <tr>\n",
       "      <th>8</th>\n",
       "      <td>Paraguay</td>\n",
       "      <td>39.52500</td>\n",
       "    </tr>\n",
       "    <tr>\n",
       "      <th>9</th>\n",
       "      <td>United States of America</td>\n",
       "      <td>58.45000</td>\n",
       "    </tr>\n",
       "  </tbody>\n",
       "</table>\n",
       "</div>"
      ],
      "text/plain": [
       "t2                   Country      BMI \n",
       "0                    Armenia  44.70625\n",
       "1                   Colombia  49.54375\n",
       "2          Equatorial Guinea  17.85625\n",
       "3                    Germany  51.99375\n",
       "4                 Kazakhstan  45.15625\n",
       "5                 Montenegro  50.48750\n",
       "6                  Nicaragua  42.68125\n",
       "7                    Nigeria  19.75000\n",
       "8                   Paraguay  39.52500\n",
       "9   United States of America  58.45000"
      ]
     },
     "metadata": {},
     "output_type": "display_data"
    },
    {
     "data": {
      "text/html": [
       "<div>\n",
       "<style scoped>\n",
       "    .dataframe tbody tr th:only-of-type {\n",
       "        vertical-align: middle;\n",
       "    }\n",
       "\n",
       "    .dataframe tbody tr th {\n",
       "        vertical-align: top;\n",
       "    }\n",
       "\n",
       "    .dataframe thead th {\n",
       "        text-align: right;\n",
       "    }\n",
       "</style>\n",
       "<table border=\"1\" class=\"dataframe\">\n",
       "  <thead>\n",
       "    <tr style=\"text-align: right;\">\n",
       "      <th>t3</th>\n",
       "      <th>Country</th>\n",
       "      <th>Area (sq. mi.)</th>\n",
       "    </tr>\n",
       "  </thead>\n",
       "  <tbody>\n",
       "    <tr>\n",
       "      <th>0</th>\n",
       "      <td>Armenia</td>\n",
       "      <td>29800.0</td>\n",
       "    </tr>\n",
       "    <tr>\n",
       "      <th>1</th>\n",
       "      <td>Colombia</td>\n",
       "      <td>1138910.0</td>\n",
       "    </tr>\n",
       "    <tr>\n",
       "      <th>2</th>\n",
       "      <td>Equatorial Guinea</td>\n",
       "      <td>28051.0</td>\n",
       "    </tr>\n",
       "    <tr>\n",
       "      <th>3</th>\n",
       "      <td>Germany</td>\n",
       "      <td>357021.0</td>\n",
       "    </tr>\n",
       "    <tr>\n",
       "      <th>4</th>\n",
       "      <td>Kazakhstan</td>\n",
       "      <td>2717300.0</td>\n",
       "    </tr>\n",
       "    <tr>\n",
       "      <th>5</th>\n",
       "      <td>Montenegro</td>\n",
       "      <td>NaN</td>\n",
       "    </tr>\n",
       "    <tr>\n",
       "      <th>6</th>\n",
       "      <td>Nicaragua</td>\n",
       "      <td>129494.0</td>\n",
       "    </tr>\n",
       "    <tr>\n",
       "      <th>7</th>\n",
       "      <td>Nigeria</td>\n",
       "      <td>923768.0</td>\n",
       "    </tr>\n",
       "    <tr>\n",
       "      <th>8</th>\n",
       "      <td>Paraguay</td>\n",
       "      <td>406750.0</td>\n",
       "    </tr>\n",
       "    <tr>\n",
       "      <th>9</th>\n",
       "      <td>United States of America</td>\n",
       "      <td>NaN</td>\n",
       "    </tr>\n",
       "  </tbody>\n",
       "</table>\n",
       "</div>"
      ],
      "text/plain": [
       "t3                   Country  Area (sq. mi.)\n",
       "0                    Armenia         29800.0\n",
       "1                   Colombia       1138910.0\n",
       "2          Equatorial Guinea         28051.0\n",
       "3                    Germany        357021.0\n",
       "4                 Kazakhstan       2717300.0\n",
       "5                 Montenegro             NaN\n",
       "6                  Nicaragua        129494.0\n",
       "7                    Nigeria        923768.0\n",
       "8                   Paraguay        406750.0\n",
       "9   United States of America             NaN"
      ]
     },
     "metadata": {},
     "output_type": "display_data"
    }
   ],
   "source": [
    "# part 1: building the index\n",
    "\n",
    "## The following Notebook will walk you through the steps using the following sample data. #TODO: sample data with less or more columns? Table with more columns?\n",
    "## The tables are used to create our index.\n",
    "\n",
    "t1 = pd.read_csv('data/t1.csv')\n",
    "t1.columns.name = 't1'\n",
    "display(t1)\n",
    "\n",
    "t2 = pd.read_csv('data/t2.csv')\n",
    "t2.columns.name = 't2'\n",
    "display(t2)\n",
    "\n",
    "t3 = pd.read_csv('data/t3.csv')\n",
    "t3.columns.name = 't3'\n",
    "display(t3)"
   ]
  },
  {
   "cell_type": "code",
   "execution_count": 30,
   "id": "419dc6ea",
   "metadata": {},
   "outputs": [
    {
     "name": "stdout",
     "output_type": "stream",
     "text": [
      "t1                   Country    Alcohol\n",
      "0                    Armenia   3.702667\n",
      "1                   Colombia   4.419333\n",
      "2          Equatorial Guinea   7.342000\n",
      "3                    Germany  11.628667\n",
      "4                 Kazakhstan   6.641333\n",
      "5                 Montenegro   2.584286\n",
      "6                  Nicaragua   3.596667\n",
      "7                    Nigeria   8.646667\n",
      "8                   Paraguay   5.527333\n",
      "9   United States of America   8.579333\n"
     ]
    }
   ],
   "source": [
    "# 0. initialize index ##TODO: Wieso inverted_index leer bauen und dann table printen?\n",
    "\n",
    "inverted_index = defaultdict(set)\n",
    "\n",
    "## sample run  with t1: showing alcohol consuption per country\n",
    "\n",
    "table = t1\n",
    "\n",
    "print(table)"
   ]
  },
  {
   "cell_type": "code",
   "execution_count": 6,
   "id": "bf3a9c59",
   "metadata": {},
   "outputs": [
    {
     "name": "stdout",
     "output_type": "stream",
     "text": [
      "cat_col:\n",
      "['Armenia', 'Colombia', 'Equatorial Guinea', 'Germany', 'Kazakhstan', 'Montenegro', 'Nicaragua', 'Nigeria', 'Paraguay', 'United States of America']\n",
      "num_col:\n",
      "[3.7026666666666666, 4.419333333333333, 7.342, 11.628666666666668, 6.641333333333334, 2.584285714285714, 3.5966666666666667, 8.646666666666667, 5.527333333333333, 8.579333333333333]\n"
     ]
    },
    {
     "data": {
      "text/html": [
       "<div>\n",
       "<style scoped>\n",
       "    .dataframe tbody tr th:only-of-type {\n",
       "        vertical-align: middle;\n",
       "    }\n",
       "\n",
       "    .dataframe tbody tr th {\n",
       "        vertical-align: top;\n",
       "    }\n",
       "\n",
       "    .dataframe thead th {\n",
       "        text-align: right;\n",
       "    }\n",
       "</style>\n",
       "<table border=\"1\" class=\"dataframe\">\n",
       "  <thead>\n",
       "    <tr style=\"text-align: right;\">\n",
       "      <th>t1</th>\n",
       "      <th>Country</th>\n",
       "      <th>Alcohol</th>\n",
       "    </tr>\n",
       "  </thead>\n",
       "  <tbody>\n",
       "    <tr>\n",
       "      <th>0</th>\n",
       "      <td>Armenia</td>\n",
       "      <td>3.702667</td>\n",
       "    </tr>\n",
       "    <tr>\n",
       "      <th>1</th>\n",
       "      <td>Colombia</td>\n",
       "      <td>4.419333</td>\n",
       "    </tr>\n",
       "    <tr>\n",
       "      <th>2</th>\n",
       "      <td>Equatorial Guinea</td>\n",
       "      <td>7.342000</td>\n",
       "    </tr>\n",
       "    <tr>\n",
       "      <th>3</th>\n",
       "      <td>Germany</td>\n",
       "      <td>11.628667</td>\n",
       "    </tr>\n",
       "    <tr>\n",
       "      <th>4</th>\n",
       "      <td>Kazakhstan</td>\n",
       "      <td>6.641333</td>\n",
       "    </tr>\n",
       "    <tr>\n",
       "      <th>5</th>\n",
       "      <td>Montenegro</td>\n",
       "      <td>2.584286</td>\n",
       "    </tr>\n",
       "    <tr>\n",
       "      <th>6</th>\n",
       "      <td>Nicaragua</td>\n",
       "      <td>3.596667</td>\n",
       "    </tr>\n",
       "    <tr>\n",
       "      <th>7</th>\n",
       "      <td>Nigeria</td>\n",
       "      <td>8.646667</td>\n",
       "    </tr>\n",
       "    <tr>\n",
       "      <th>8</th>\n",
       "      <td>Paraguay</td>\n",
       "      <td>5.527333</td>\n",
       "    </tr>\n",
       "    <tr>\n",
       "      <th>9</th>\n",
       "      <td>United States of America</td>\n",
       "      <td>8.579333</td>\n",
       "    </tr>\n",
       "  </tbody>\n",
       "</table>\n",
       "</div>"
      ],
      "text/plain": [
       "t1                   Country    Alcohol\n",
       "0                    Armenia   3.702667\n",
       "1                   Colombia   4.419333\n",
       "2          Equatorial Guinea   7.342000\n",
       "3                    Germany  11.628667\n",
       "4                 Kazakhstan   6.641333\n",
       "5                 Montenegro   2.584286\n",
       "6                  Nicaragua   3.596667\n",
       "7                    Nigeria   8.646667\n",
       "8                   Paraguay   5.527333\n",
       "9   United States of America   8.579333"
      ]
     },
     "execution_count": 6,
     "metadata": {},
     "output_type": "execute_result"
    }
   ],
   "source": [
    "# 1. extracting numerical column (feature) and categorical column (key)\n",
    "\n",
    "cat_col = get_kc(table)\n",
    "num_col = get_c(table)\n",
    "\n",
    "print(\"cat_col:\")\n",
    "print(cat_col)\n",
    "print(\"num_col:\")\n",
    "print(num_col)\n",
    "\n",
    "# (if a table consists of more than 2 cols, all numerical and categorical columns are combined into 2-col-tables (cross product). here, we simply keep using our original table\n",
    "table"
   ]
  },
  {
   "cell_type": "markdown",
   "id": "cba3ee91",
   "metadata": {},
   "source": [
    "#### Step 2\n",
    "Now we have tables conaining only one categorical column and a numercial column. <br>\n",
    "We can start hashing the numerical columns. For performance reasons it is advised to limit the sketch size. <br>\n",
    "Allthough not necessary in this small case, we want to emphasize the scalability of this apporoach and used the limit of 3."
   ]
  },
  {
   "cell_type": "code",
   "execution_count": 33,
   "id": "ff6ecba6",
   "metadata": {},
   "outputs": [
    {
     "name": "stdout",
     "output_type": "stream",
     "text": [
      "t1                   Country    Alcohol  hashed_values\n",
      "0                    Armenia   3.702667   3.619010e-40\n",
      "1                   Colombia   4.419333   3.619010e-40\n",
      "2          Equatorial Guinea   7.342000   3.619010e-40\n",
      "3                    Germany  11.628667   3.619010e-40\n",
      "4                 Kazakhstan   6.641333   3.619010e-40\n",
      "5                 Montenegro   2.584286   3.619010e-40\n",
      "6                  Nicaragua   3.596667   3.619010e-40\n",
      "7                    Nigeria   8.646667   3.619010e-40\n",
      "8                   Paraguay   5.527333   3.619010e-40\n",
      "9   United States of America   8.579333   3.619010e-40\n",
      "\n",
      "sketch of t1:\n"
     ]
    },
    {
     "data": {
      "text/html": [
       "<div>\n",
       "<style scoped>\n",
       "    .dataframe tbody tr th:only-of-type {\n",
       "        vertical-align: middle;\n",
       "    }\n",
       "\n",
       "    .dataframe tbody tr th {\n",
       "        vertical-align: top;\n",
       "    }\n",
       "\n",
       "    .dataframe thead th {\n",
       "        text-align: right;\n",
       "    }\n",
       "</style>\n",
       "<table border=\"1\" class=\"dataframe\">\n",
       "  <thead>\n",
       "    <tr style=\"text-align: right;\">\n",
       "      <th>t1</th>\n",
       "      <th>hashed_values</th>\n",
       "      <th>Country</th>\n",
       "    </tr>\n",
       "  </thead>\n",
       "  <tbody>\n",
       "    <tr>\n",
       "      <th>0</th>\n",
       "      <td>3.619010e-40</td>\n",
       "      <td>Armenia</td>\n",
       "    </tr>\n",
       "    <tr>\n",
       "      <th>1</th>\n",
       "      <td>3.619010e-40</td>\n",
       "      <td>Colombia</td>\n",
       "    </tr>\n",
       "    <tr>\n",
       "      <th>2</th>\n",
       "      <td>3.619010e-40</td>\n",
       "      <td>Equatorial Guinea</td>\n",
       "    </tr>\n",
       "  </tbody>\n",
       "</table>\n",
       "</div>"
      ],
      "text/plain": [
       "t1  hashed_values            Country\n",
       "0    3.619010e-40            Armenia\n",
       "1    3.619010e-40           Colombia\n",
       "2    3.619010e-40  Equatorial Guinea"
      ]
     },
     "execution_count": 33,
     "metadata": {},
     "output_type": "execute_result"
    }
   ],
   "source": [
    "# 2. create sketch by hashing numerical values and picking n smallest. #TODO: oben steht numerische Spalten hashen. Hier jetzt aber beide?\n",
    "\n",
    "table['hashed_values'] = hash_function(table['Alcohol'])\n",
    "print(table)\n",
    "hashed_table = table[['hashed_values', 'Country']]\n",
    "#hashed_table = table[['Alcohol', 'Country']]\n",
    "\n",
    "# now we only keep n rows with the smallest hashed values. those rows form the sketch for this table:\n",
    "\n",
    "sketch = hashed_table.nsmallest(3, 'hashed_values')\n",
    "#sketch = hashed_table.nsmallest(3, 'Alcohol')\n",
    "print('\\nsketch of t1:')\n",
    "sketch\n"
   ]
  },
  {
   "cell_type": "markdown",
   "id": "1a5d280e",
   "metadata": {},
   "source": [
    "#### Step 3\n",
    "We now label our hashed_values according to the mean of the hashed_values.<br>\n",
    "Any hashed_value below our mean has it's key (or categorical column) concatenated with \"-1\", while any hashed_value above the mean hast it's concatenated with \"+1\"."
   ]
  },
  {
   "cell_type": "code",
   "execution_count": 37,
   "id": "1f5b0479",
   "metadata": {},
   "outputs": [
    {
     "name": "stdout",
     "output_type": "stream",
     "text": [
      "t1  hashed_values            Country         labeled_keys\n",
      "0    3.619010e-40            Armenia            Armenia-1\n",
      "1    3.619010e-40           Colombia           Colombia-1\n",
      "2    3.619010e-40  Equatorial Guinea  Equatorial Guinea-1\n"
     ]
    }
   ],
   "source": [
    "# 3. categorize keys by value and use as new key\n",
    "\n",
    "# first we calculate the mean of all values of this tables numeric column\n",
    "mue = sketch['hashed_values'].mean()\n",
    "\n",
    "\n",
    "# then label key by > median (+key) or < median (-key)\n",
    "#NOT# hash categorized term\n",
    "sketch['labeled_keys'] = [f'{key}{\"+1\" if value > mue else \"-1\"}' for value, key in sketch.values]\n",
    "\n",
    "print(sketch)"
   ]
  },
  {
   "cell_type": "markdown",
   "id": "b5cfe867",
   "metadata": {},
   "source": [
    "#### Step 4\n",
    "We finally can complete our inverted index by merging our sketches into our full inverted index. "
   ]
  },
  {
   "cell_type": "code",
   "execution_count": 40,
   "id": "e02f0139",
   "metadata": {},
   "outputs": [
    {
     "data": {
      "text/plain": [
       "defaultdict(set,\n",
       "            {'Armenia-1': {'t1', 't3'},\n",
       "             'Nicaragua-1': {'t1', 't3'},\n",
       "             'Equatorial Guinea+1': {'t1'},\n",
       "             'United States of America+1': {'t1', 't2'},\n",
       "             'Colombia-1': {'t1', 't3'},\n",
       "             'Paraguay-1': {'t1', 't2', 't3'},\n",
       "             'Montenegro-1': {'t1', 't3'},\n",
       "             'Kazakhstan+1': {'t1', 't2'},\n",
       "             'Germany+1': {'t1', 't2'},\n",
       "             'Nigeria+1': {'t1'},\n",
       "             'Armenia+1': {'t2'},\n",
       "             'Nicaragua+1': {'t2'},\n",
       "             'Equatorial Guinea-1': {'t1', 't2', 't3'},\n",
       "             'Colombia+1': {'t2'},\n",
       "             'Montenegro+1': {'t2'},\n",
       "             'Nigeria-1': {'t2', 't3'},\n",
       "             'United States of America-1': {'t3'},\n",
       "             'Kazakhstan-1': {'t3'},\n",
       "             'Germany-1': {'t3'}})"
      ]
     },
     "execution_count": 40,
     "metadata": {},
     "output_type": "execute_result"
    }
   ],
   "source": [
    "# 4. store hashed and categorized terms of sketch in inverted index #TODO: Hier bauen wir den inverted index aus den sketches? Und dannach aus den vollständigen tabellen im schnelldurchlauf?\n",
    "#TODO: Reihenfolge der Zellausführungen beachten. Umbenennungen erforderlich\n",
    "table_id = 't1'\n",
    "\n",
    "for term in sketch['labeled_keys']:\n",
    "    inverted_index[term].add(table_id)\n",
    "\n",
    "\n",
    "inverted_index\n"
   ]
  },
  {
   "cell_type": "code",
   "execution_count": 34,
   "id": "68d99b1f",
   "metadata": {},
   "outputs": [
    {
     "data": {
      "text/plain": [
       "defaultdict(set,\n",
       "            {'Armenia-1': {'t1', 't3'},\n",
       "             'Nicaragua-1': {'t1', 't3'},\n",
       "             'Equatorial Guinea+1': {'t1'},\n",
       "             'United States of America+1': {'t1', 't2'},\n",
       "             'Colombia-1': {'t1', 't3'},\n",
       "             'Paraguay-1': {'t1', 't2', 't3'},\n",
       "             'Montenegro-1': {'t1', 't3'},\n",
       "             'Kazakhstan+1': {'t1', 't2'},\n",
       "             'Germany+1': {'t1', 't2'},\n",
       "             'Nigeria+1': {'t1'},\n",
       "             'Armenia+1': {'t2'},\n",
       "             'Nicaragua+1': {'t2'},\n",
       "             'Equatorial Guinea-1': {'t2', 't3'},\n",
       "             'Colombia+1': {'t2'},\n",
       "             'Montenegro+1': {'t2'},\n",
       "             'Nigeria-1': {'t2', 't3'},\n",
       "             'United States of America-1': {'t3'},\n",
       "             'Kazakhstan-1': {'t3'},\n",
       "             'Germany-1': {'t3'}})"
      ]
     },
     "execution_count": 34,
     "metadata": {},
     "output_type": "execute_result"
    }
   ],
   "source": [
    "### the above is an example of one table, the full code can be found in qcr.py\n",
    "\n",
    "# now we also import all 3 tables into one index\n",
    "build_index([t1, t2, t3])\n",
    "inverted_index = load_index()\n",
    "inverted_index"
   ]
  },
  {
   "cell_type": "markdown",
   "id": "02ce9cd5",
   "metadata": {},
   "source": [
    "As we now have build our inverted index for the dataset to be searched we can search it for data correlating to our query table.\n",
    "### Querying the index\n",
    "#### Step 1\n",
    "We start by building the inverted index for the sketch of our query data."
   ]
  },
  {
   "cell_type": "code",
   "execution_count": 41,
   "id": "a40af0a3",
   "metadata": {
    "pycharm": {
     "name": "#%%\n"
    }
   },
   "outputs": [
    {
     "ename": "KeyError",
     "evalue": "0",
     "output_type": "error",
     "traceback": [
      "\u001b[1;31m---------------------------------------------------------------------------\u001b[0m",
      "\u001b[1;31mValueError\u001b[0m                                Traceback (most recent call last)",
      "\u001b[1;32mc:\\Users\\zainl\\anaconda3\\lib\\site-packages\\pandas\\core\\indexes\\range.py\u001b[0m in \u001b[0;36mget_loc\u001b[1;34m(self, key, method, tolerance)\u001b[0m\n\u001b[0;32m    384\u001b[0m                 \u001b[1;32mtry\u001b[0m\u001b[1;33m:\u001b[0m\u001b[1;33m\u001b[0m\u001b[1;33m\u001b[0m\u001b[0m\n\u001b[1;32m--> 385\u001b[1;33m                     \u001b[1;32mreturn\u001b[0m \u001b[0mself\u001b[0m\u001b[1;33m.\u001b[0m\u001b[0m_range\u001b[0m\u001b[1;33m.\u001b[0m\u001b[0mindex\u001b[0m\u001b[1;33m(\u001b[0m\u001b[0mnew_key\u001b[0m\u001b[1;33m)\u001b[0m\u001b[1;33m\u001b[0m\u001b[1;33m\u001b[0m\u001b[0m\n\u001b[0m\u001b[0;32m    386\u001b[0m                 \u001b[1;32mexcept\u001b[0m \u001b[0mValueError\u001b[0m \u001b[1;32mas\u001b[0m \u001b[0merr\u001b[0m\u001b[1;33m:\u001b[0m\u001b[1;33m\u001b[0m\u001b[1;33m\u001b[0m\u001b[0m\n",
      "\u001b[1;31mValueError\u001b[0m: 0 is not in range",
      "\nThe above exception was the direct cause of the following exception:\n",
      "\u001b[1;31mKeyError\u001b[0m                                  Traceback (most recent call last)",
      "\u001b[1;32m~\\AppData\\Local\\Temp\\ipykernel_912\\1848771737.py\u001b[0m in \u001b[0;36m<module>\u001b[1;34m\u001b[0m\n\u001b[0;32m      7\u001b[0m \u001b[1;31m# as above:\u001b[0m\u001b[1;33m\u001b[0m\u001b[1;33m\u001b[0m\u001b[0m\n\u001b[0;32m      8\u001b[0m \u001b[1;31m# 1. build sketch of query table\u001b[0m\u001b[1;33m\u001b[0m\u001b[1;33m\u001b[0m\u001b[0m\n\u001b[1;32m----> 9\u001b[1;33m \u001b[0msketch\u001b[0m \u001b[1;33m=\u001b[0m \u001b[0mqcr\u001b[0m\u001b[1;33m.\u001b[0m\u001b[0mcreate_sketch\u001b[0m\u001b[1;33m(\u001b[0m\u001b[0mq\u001b[0m\u001b[1;33m[\u001b[0m\u001b[1;36m0\u001b[0m\u001b[1;33m]\u001b[0m\u001b[1;33m,\u001b[0m \u001b[0mq\u001b[0m\u001b[1;33m[\u001b[0m\u001b[1;36m1\u001b[0m\u001b[1;33m]\u001b[0m\u001b[1;33m,\u001b[0m \u001b[0mhash_function\u001b[0m\u001b[1;33m(\u001b[0m\u001b[1;33m)\u001b[0m\u001b[1;33m,\u001b[0m \u001b[0mn\u001b[0m\u001b[1;33m=\u001b[0m\u001b[1;36m5\u001b[0m\u001b[1;33m)\u001b[0m\u001b[1;33m\u001b[0m\u001b[1;33m\u001b[0m\u001b[0m\n\u001b[0m\u001b[0;32m     10\u001b[0m \u001b[1;31m# 2. generate terms\u001b[0m\u001b[1;33m\u001b[0m\u001b[1;33m\u001b[0m\u001b[0m\n\u001b[0;32m     11\u001b[0m \u001b[0mterms\u001b[0m \u001b[1;33m=\u001b[0m \u001b[0mqcr\u001b[0m\u001b[1;33m.\u001b[0m\u001b[0mgenerate_term_keys\u001b[0m\u001b[1;33m(\u001b[0m\u001b[0msketch\u001b[0m\u001b[1;33m)\u001b[0m\u001b[1;33m\u001b[0m\u001b[1;33m\u001b[0m\u001b[0m\n",
      "\u001b[1;32mc:\\Users\\zainl\\anaconda3\\lib\\site-packages\\pandas\\core\\frame.py\u001b[0m in \u001b[0;36m__getitem__\u001b[1;34m(self, key)\u001b[0m\n\u001b[0;32m   3503\u001b[0m             \u001b[1;32mif\u001b[0m \u001b[0mself\u001b[0m\u001b[1;33m.\u001b[0m\u001b[0mcolumns\u001b[0m\u001b[1;33m.\u001b[0m\u001b[0mnlevels\u001b[0m \u001b[1;33m>\u001b[0m \u001b[1;36m1\u001b[0m\u001b[1;33m:\u001b[0m\u001b[1;33m\u001b[0m\u001b[1;33m\u001b[0m\u001b[0m\n\u001b[0;32m   3504\u001b[0m                 \u001b[1;32mreturn\u001b[0m \u001b[0mself\u001b[0m\u001b[1;33m.\u001b[0m\u001b[0m_getitem_multilevel\u001b[0m\u001b[1;33m(\u001b[0m\u001b[0mkey\u001b[0m\u001b[1;33m)\u001b[0m\u001b[1;33m\u001b[0m\u001b[1;33m\u001b[0m\u001b[0m\n\u001b[1;32m-> 3505\u001b[1;33m             \u001b[0mindexer\u001b[0m \u001b[1;33m=\u001b[0m \u001b[0mself\u001b[0m\u001b[1;33m.\u001b[0m\u001b[0mcolumns\u001b[0m\u001b[1;33m.\u001b[0m\u001b[0mget_loc\u001b[0m\u001b[1;33m(\u001b[0m\u001b[0mkey\u001b[0m\u001b[1;33m)\u001b[0m\u001b[1;33m\u001b[0m\u001b[1;33m\u001b[0m\u001b[0m\n\u001b[0m\u001b[0;32m   3506\u001b[0m             \u001b[1;32mif\u001b[0m \u001b[0mis_integer\u001b[0m\u001b[1;33m(\u001b[0m\u001b[0mindexer\u001b[0m\u001b[1;33m)\u001b[0m\u001b[1;33m:\u001b[0m\u001b[1;33m\u001b[0m\u001b[1;33m\u001b[0m\u001b[0m\n\u001b[0;32m   3507\u001b[0m                 \u001b[0mindexer\u001b[0m \u001b[1;33m=\u001b[0m \u001b[1;33m[\u001b[0m\u001b[0mindexer\u001b[0m\u001b[1;33m]\u001b[0m\u001b[1;33m\u001b[0m\u001b[1;33m\u001b[0m\u001b[0m\n",
      "\u001b[1;32mc:\\Users\\zainl\\anaconda3\\lib\\site-packages\\pandas\\core\\indexes\\range.py\u001b[0m in \u001b[0;36mget_loc\u001b[1;34m(self, key, method, tolerance)\u001b[0m\n\u001b[0;32m    385\u001b[0m                     \u001b[1;32mreturn\u001b[0m \u001b[0mself\u001b[0m\u001b[1;33m.\u001b[0m\u001b[0m_range\u001b[0m\u001b[1;33m.\u001b[0m\u001b[0mindex\u001b[0m\u001b[1;33m(\u001b[0m\u001b[0mnew_key\u001b[0m\u001b[1;33m)\u001b[0m\u001b[1;33m\u001b[0m\u001b[1;33m\u001b[0m\u001b[0m\n\u001b[0;32m    386\u001b[0m                 \u001b[1;32mexcept\u001b[0m \u001b[0mValueError\u001b[0m \u001b[1;32mas\u001b[0m \u001b[0merr\u001b[0m\u001b[1;33m:\u001b[0m\u001b[1;33m\u001b[0m\u001b[1;33m\u001b[0m\u001b[0m\n\u001b[1;32m--> 387\u001b[1;33m                     \u001b[1;32mraise\u001b[0m \u001b[0mKeyError\u001b[0m\u001b[1;33m(\u001b[0m\u001b[0mkey\u001b[0m\u001b[1;33m)\u001b[0m \u001b[1;32mfrom\u001b[0m \u001b[0merr\u001b[0m\u001b[1;33m\u001b[0m\u001b[1;33m\u001b[0m\u001b[0m\n\u001b[0m\u001b[0;32m    388\u001b[0m             \u001b[0mself\u001b[0m\u001b[1;33m.\u001b[0m\u001b[0m_check_indexing_error\u001b[0m\u001b[1;33m(\u001b[0m\u001b[0mkey\u001b[0m\u001b[1;33m)\u001b[0m\u001b[1;33m\u001b[0m\u001b[1;33m\u001b[0m\u001b[0m\n\u001b[0;32m    389\u001b[0m             \u001b[1;32mraise\u001b[0m \u001b[0mKeyError\u001b[0m\u001b[1;33m(\u001b[0m\u001b[0mkey\u001b[0m\u001b[1;33m)\u001b[0m\u001b[1;33m\u001b[0m\u001b[1;33m\u001b[0m\u001b[0m\n",
      "\u001b[1;31mKeyError\u001b[0m: 0"
     ]
    }
   ],
   "source": [
    "# query table: (key & taget)\n",
    "q = pd.DataFrame([[],[]])#TODO: ich denke mal hier fehlen noch daten?\n",
    "# land # lebenserwartung #\n",
    "# ...\n",
    "\n",
    "\n",
    "# as above:\n",
    "# 1. build sketch of query table\n",
    "sketch = qcr.create_sketch(q[0], q[1], hash_function(), n=5)\n",
    "# 2. generate terms\n",
    "terms = qcr.generate_term_keys(sketch)\n",
    "\n",
    "# 3.  inverse values of sketch\n",
    "# for negative correlation\n",
    "inverse_terms = generate_term_keys(\n",
    "    list(map((lambda key_value: (key_value[0], -key_value[1])), sketch)), h\n",
    "    ) # same function as above, input is inverted\n",
    "\n",
    "\n"
   ]
  },
  {
   "cell_type": "markdown",
   "id": "5ca4055e",
   "metadata": {},
   "source": [
    "#### Step 2\n",
    "Using our new inverted index for the query table we can search the database. \n",
    "# Welche terms auswählen? Erklären"
   ]
  },
  {
   "cell_type": "code",
   "execution_count": 19,
   "id": "b3eb81da",
   "metadata": {
    "pycharm": {
     "name": "#%%\n"
    }
   },
   "outputs": [
    {
     "ename": "NameError",
     "evalue": "name 'terms' is not defined",
     "output_type": "error",
     "traceback": [
      "\u001b[1;31m---------------------------------------------------------------------------\u001b[0m",
      "\u001b[1;31mNameError\u001b[0m                                 Traceback (most recent call last)",
      "\u001b[1;32m~\\AppData\\Local\\Temp\\ipykernel_912\\1813250206.py\u001b[0m in \u001b[0;36m<module>\u001b[1;34m\u001b[0m\n\u001b[0;32m      6\u001b[0m \u001b[0mresult\u001b[0m \u001b[1;33m=\u001b[0m \u001b[0mCounter\u001b[0m\u001b[1;33m(\u001b[0m\u001b[1;33m)\u001b[0m\u001b[1;33m\u001b[0m\u001b[1;33m\u001b[0m\u001b[0m\n\u001b[0;32m      7\u001b[0m result.update(\n\u001b[1;32m----> 8\u001b[1;33m     \u001b[1;34m\"+:\"\u001b[0m \u001b[1;33m+\u001b[0m \u001b[0mtable_id\u001b[0m \u001b[1;32mfor\u001b[0m \u001b[0mterm\u001b[0m \u001b[1;32min\u001b[0m \u001b[0mterms\u001b[0m \u001b[1;32mfor\u001b[0m \u001b[0mtable_id\u001b[0m \u001b[1;32min\u001b[0m \u001b[0minverted_index\u001b[0m\u001b[1;33m[\u001b[0m\u001b[0mterm\u001b[0m\u001b[1;33m]\u001b[0m\u001b[1;33m\u001b[0m\u001b[1;33m\u001b[0m\u001b[0m\n\u001b[0m\u001b[0;32m      9\u001b[0m )\n\u001b[0;32m     10\u001b[0m result.update(\n",
      "\u001b[1;31mNameError\u001b[0m: name 'terms' is not defined"
     ]
    }
   ],
   "source": [
    "# execute query\n",
    "# 1. load idex\n",
    "inverted_index = load_index()\n",
    "\n",
    "# count how many tables match the sketches terms #TODO: what terms? unklar\n",
    "result = Counter()\n",
    "result.update(\n",
    "    \"+:\" + table_id for term in terms for table_id in inverted_index[term]\n",
    ")\n",
    "result.update(\n",
    "    \"-:\" + table_id for term in inverse_terms for table_id in inverted_index[term]\n",
    ")\n",
    "\n",
    "sketch = result.most_common(10)"
   ]
  },
  {
   "cell_type": "code",
   "execution_count": null,
   "id": "1051d1b0",
   "metadata": {},
   "outputs": [],
   "source": [
    "#4. a _mirror image_ is of each sketch is build\n",
    "#    - sign of value and key is inverted\n",
    "#    - this is used to identify inversed correlation"
   ]
  },
  {
   "cell_type": "code",
   "execution_count": null,
   "id": "7a1f1d9b",
   "metadata": {
    "pycharm": {
     "name": "#%%\n"
    }
   },
   "outputs": [],
   "source": []
  },
  {
   "cell_type": "code",
   "execution_count": null,
   "id": "50c1c224",
   "metadata": {
    "pycharm": {
     "name": "#%%\n"
    }
   },
   "outputs": [],
   "source": []
  },
  {
   "cell_type": "code",
   "execution_count": 42,
   "id": "41ec39d7",
   "metadata": {
    "pycharm": {
     "name": "#%%\n"
    }
   },
   "outputs": [
    {
     "data": {
      "text/html": [
       "<div>\n",
       "<style scoped>\n",
       "    .dataframe tbody tr th:only-of-type {\n",
       "        vertical-align: middle;\n",
       "    }\n",
       "\n",
       "    .dataframe tbody tr th {\n",
       "        vertical-align: top;\n",
       "    }\n",
       "\n",
       "    .dataframe thead th {\n",
       "        text-align: right;\n",
       "    }\n",
       "</style>\n",
       "<table border=\"1\" class=\"dataframe\">\n",
       "  <thead>\n",
       "    <tr style=\"text-align: right;\">\n",
       "      <th></th>\n",
       "      <th>movies</th>\n",
       "      <th>budget in mil €</th>\n",
       "      <th>stars</th>\n",
       "    </tr>\n",
       "  </thead>\n",
       "  <tbody>\n",
       "    <tr>\n",
       "      <th>0</th>\n",
       "      <td>A</td>\n",
       "      <td>100</td>\n",
       "      <td>2.0</td>\n",
       "    </tr>\n",
       "    <tr>\n",
       "      <th>1</th>\n",
       "      <td>B</td>\n",
       "      <td>200</td>\n",
       "      <td>3.0</td>\n",
       "    </tr>\n",
       "    <tr>\n",
       "      <th>2</th>\n",
       "      <td>C</td>\n",
       "      <td>500</td>\n",
       "      <td>4.0</td>\n",
       "    </tr>\n",
       "    <tr>\n",
       "      <th>3</th>\n",
       "      <td>D</td>\n",
       "      <td>300</td>\n",
       "      <td>4.8</td>\n",
       "    </tr>\n",
       "    <tr>\n",
       "      <th>4</th>\n",
       "      <td>E</td>\n",
       "      <td>300</td>\n",
       "      <td>3.0</td>\n",
       "    </tr>\n",
       "  </tbody>\n",
       "</table>\n",
       "</div>"
      ],
      "text/plain": [
       "  movies  budget in mil €  stars\n",
       "0      A              100    2.0\n",
       "1      B              200    3.0\n",
       "2      C              500    4.0\n",
       "3      D              300    4.8\n",
       "4      E              300    3.0"
      ]
     },
     "metadata": {},
     "output_type": "display_data"
    },
    {
     "name": "stdout",
     "output_type": "stream",
     "text": [
      "\n",
      "hashed df:\n"
     ]
    },
    {
     "data": {
      "text/html": [
       "<div>\n",
       "<style scoped>\n",
       "    .dataframe tbody tr th:only-of-type {\n",
       "        vertical-align: middle;\n",
       "    }\n",
       "\n",
       "    .dataframe tbody tr th {\n",
       "        vertical-align: top;\n",
       "    }\n",
       "\n",
       "    .dataframe thead th {\n",
       "        text-align: right;\n",
       "    }\n",
       "</style>\n",
       "<table border=\"1\" class=\"dataframe\">\n",
       "  <thead>\n",
       "    <tr style=\"text-align: right;\">\n",
       "      <th></th>\n",
       "      <th>movies</th>\n",
       "      <th>budget in mil €</th>\n",
       "      <th>stars</th>\n",
       "    </tr>\n",
       "  </thead>\n",
       "  <tbody>\n",
       "    <tr>\n",
       "      <th>0</th>\n",
       "      <td>A</td>\n",
       "      <td>100</td>\n",
       "      <td>2</td>\n",
       "    </tr>\n",
       "    <tr>\n",
       "      <th>1</th>\n",
       "      <td>B</td>\n",
       "      <td>200</td>\n",
       "      <td>3</td>\n",
       "    </tr>\n",
       "    <tr>\n",
       "      <th>2</th>\n",
       "      <td>C</td>\n",
       "      <td>500</td>\n",
       "      <td>4</td>\n",
       "    </tr>\n",
       "    <tr>\n",
       "      <th>3</th>\n",
       "      <td>D</td>\n",
       "      <td>300</td>\n",
       "      <td>1844674407370954756</td>\n",
       "    </tr>\n",
       "    <tr>\n",
       "      <th>4</th>\n",
       "      <td>E</td>\n",
       "      <td>300</td>\n",
       "      <td>3</td>\n",
       "    </tr>\n",
       "  </tbody>\n",
       "</table>\n",
       "</div>"
      ],
      "text/plain": [
       "  movies  budget in mil €                stars\n",
       "0      A              100                    2\n",
       "1      B              200                    3\n",
       "2      C              500                    4\n",
       "3      D              300  1844674407370954756\n",
       "4      E              300                    3"
      ]
     },
     "metadata": {},
     "output_type": "display_data"
    }
   ],
   "source": [
    "### Query dataset (Q)\n",
    "\n",
    "df_Q = pd.DataFrame({'movies':['A','B','C','D','E'], \n",
    "                     'budget in mil €':[100, 200, 500, 300, 300],\n",
    "                     'stars':[2,3,4,4.8,3]})\n",
    "display(df_Q)\n",
    "\n",
    "print()\n",
    "print('hashed df:')\n",
    "h_k = df_Q['budget in mil €'].apply(lambda k: hash(k))##TODO: hash keinen effekt außer bei 4.8? -> andere hashfunktion\n",
    "df_Q['budget in mil €'] = h_k\n",
    "\n",
    "h_k = df_Q['stars'].apply(lambda k: hash(k))\n",
    "df_Q['stars'] = h_k\n",
    "\n",
    "display(df_Q)"
   ]
  },
  {
   "cell_type": "code",
   "execution_count": null,
   "id": "1ddf44de",
   "metadata": {
    "pycharm": {
     "name": "#%%\n"
    }
   },
   "outputs": [],
   "source": [
    "### example of a corrolated and joinable dataset from the corpus (c):\n",
    "\n",
    "df_c = pd.DataFrame({'movies':['C','D','E','F','G',], \n",
    "                     'budget per staff':[1.2, 3.5, 8, 10, 4]})\n",
    "display(df_c)\n",
    "\n",
    "h_k = df_c['budget per staff'].apply(lambda k: hash(k))\n",
    "df_c['budget per staff'] = h_k\n",
    "display(df_c)\n",
    "#df = pd.DataFrame({'movies':['C','D','E','F','G',], 'sick days':[500, 50, 150, 175, 100]})\n",
    "#df"
   ]
  },
  {
   "cell_type": "code",
   "execution_count": null,
   "id": "2b8b05f7",
   "metadata": {
    "pycharm": {
     "name": "#%%\n"
    }
   },
   "outputs": [],
   "source": [
    "# choose sketch for each table"
   ]
  },
  {
   "cell_type": "markdown",
   "id": "41f272d0",
   "metadata": {
    "pycharm": {
     "name": "#%% md\n"
    }
   },
   "source": [
    "### correlation:\n",
    "\n"
   ]
  },
  {
   "cell_type": "code",
   "execution_count": null,
   "id": "6eb032ab",
   "metadata": {
    "pycharm": {
     "name": "#%%\n"
    }
   },
   "outputs": [],
   "source": [
    "# find corrolated sketches and joinable sketches"
   ]
  },
  {
   "cell_type": "markdown",
   "id": "6c12d86c",
   "metadata": {
    "pycharm": {
     "name": "#%% md\n"
    }
   },
   "source": [
    "\n",
    "### joinability:"
   ]
  },
  {
   "cell_type": "code",
   "execution_count": null,
   "id": "2b0b9443",
   "metadata": {
    "pycharm": {
     "name": "#%%\n"
    }
   },
   "outputs": [],
   "source": [
    "#TODO: zwei mal correltaion und joinability. Wozu?"
   ]
  },
  {
   "cell_type": "code",
   "execution_count": 48,
   "id": "90429845",
   "metadata": {
    "pycharm": {
     "name": "#%%\n"
    }
   },
   "outputs": [],
   "source": [
    "#############################################\n",
    "# building the index                        #\n",
    "#                        overview           #\n",
    "#############################################\n",
    "def build_index() -> None:\n",
    "    # 0. load table and initialize index\n",
    "    inverted_index = defaultdict(set)\n",
    "    tables = load_tables()\n",
    "\n",
    "    # create sketch for every table and add it to the intex\n",
    "    for table in tables:\n",
    "\n",
    "        # 1. build 2-column-tables\n",
    "        KC = get_kc(table)\n",
    "        C = get_c(table)\n",
    "\n",
    "        # create hash functions\n",
    "        h, hu = create_hash_functions(KC, C)\n",
    "\n",
    "        # 2. hash numerical values\n",
    "        sketch = create_sketch(KC, C, h, hu)\n",
    "\n",
    "        # 3. categorize keys by value\n",
    "        terms = generate_term_keys(sketch, h)\n",
    "\n",
    "\n",
    "        # 4. store terms // sketch in inverted index ???\n",
    "        table_id = get_table_id(table)\n",
    "        add_to_inverted_index(inverted_index, terms, table_id)\n",
    "\n",
    "\n",
    "    save_index(inverted_index)"
   ]
  },
  {
   "cell_type": "code",
   "execution_count": 49,
   "id": "71f03174",
   "metadata": {
    "pycharm": {
     "name": "#%%\n"
    }
   },
   "outputs": [],
   "source": [
    "def find_tables(query: pd.DataFrame) -> List[str]:\n",
    "    # 1. build 2-column-tables\n",
    "    KC = get_kc(query)\n",
    "    C = get_c(query)\n",
    "    \n",
    "    # create hash functions\n",
    "    h, hu = create_hash_functions()  # both hash functions are used to create the sketch (hu(h(k)))\n",
    "    \n",
    "    # hash numerical values\n",
    "    sketch = create_sketch(KC, C, h, hu)\n",
    "    \n",
    "    # categorize keys by value\n",
    "    terms = generate_term_keys(sketch, h)\n",
    "    \n",
    "    # mirror image\n",
    "    anti_terms = tk(\n",
    "        list(map((lambda key_value: (key_value[0], -key_value[1])), sketch)), h\n",
    "        )\n",
    "    \n",
    "    # pick smallest n terms for specific sample\n",
    "    inverted_index = load_index()\n",
    "    result = Counter()\n",
    "    result.update(\n",
    "        \"+:\" + table_id for term in terms for table_id in inverted_index[term]\n",
    "    )\n",
    "    result.update(\n",
    "        \"-:\" + table_id for term in anti_terms for table_id in inverted_index[term]\n",
    "    )\n",
    "    \n",
    "    sketch = result.most_common(10)\n",
    "    return sketch"
   ]
  },
  {
   "cell_type": "code",
   "execution_count": 50,
   "id": "9caaf837",
   "metadata": {
    "pycharm": {
     "name": "#%%\n"
    }
   },
   "outputs": [
    {
     "ename": "TypeError",
     "evalue": "bad operand type for unary -: 'str'",
     "output_type": "error",
     "traceback": [
      "\u001b[1;31m---------------------------------------------------------------------------\u001b[0m",
      "\u001b[1;31mTypeError\u001b[0m                                 Traceback (most recent call last)",
      "\u001b[1;32m~\\AppData\\Local\\Temp\\ipykernel_912\\405515065.py\u001b[0m in \u001b[0;36m<module>\u001b[1;34m\u001b[0m\n\u001b[0;32m      1\u001b[0m \u001b[1;31m# mirror image of tuples (same function as above, mirrored input)\u001b[0m\u001b[1;33m\u001b[0m\u001b[1;33m\u001b[0m\u001b[0m\n\u001b[0;32m      2\u001b[0m \u001b[1;33m\u001b[0m\u001b[0m\n\u001b[1;32m----> 3\u001b[1;33m \u001b[0mmirror_image\u001b[0m \u001b[1;33m=\u001b[0m \u001b[0mlist\u001b[0m\u001b[1;33m(\u001b[0m\u001b[0mmap\u001b[0m\u001b[1;33m(\u001b[0m\u001b[1;33m(\u001b[0m\u001b[1;32mlambda\u001b[0m \u001b[0mkey_value\u001b[0m\u001b[1;33m:\u001b[0m \u001b[1;33m(\u001b[0m\u001b[0mkey_value\u001b[0m\u001b[1;33m[\u001b[0m\u001b[1;36m0\u001b[0m\u001b[1;33m]\u001b[0m\u001b[1;33m,\u001b[0m \u001b[1;33m-\u001b[0m\u001b[0mkey_value\u001b[0m\u001b[1;33m[\u001b[0m\u001b[1;36m1\u001b[0m\u001b[1;33m]\u001b[0m\u001b[1;33m)\u001b[0m\u001b[1;33m)\u001b[0m\u001b[1;33m,\u001b[0m \u001b[0msketch\u001b[0m\u001b[1;33m)\u001b[0m\u001b[1;33m)\u001b[0m\u001b[1;33m,\u001b[0m \u001b[0mh\u001b[0m \u001b[1;31m###TODO: -keyvalue? h?\u001b[0m\u001b[1;33m\u001b[0m\u001b[1;33m\u001b[0m\u001b[0m\n\u001b[0m\u001b[0;32m      4\u001b[0m \u001b[1;33m\u001b[0m\u001b[0m\n\u001b[0;32m      5\u001b[0m \u001b[0manti_terms\u001b[0m \u001b[1;33m=\u001b[0m \u001b[0mgenerate_term_keys\u001b[0m\u001b[1;33m(\u001b[0m \u001b[0mmirror_image\u001b[0m \u001b[1;33m)\u001b[0m\u001b[1;33m\u001b[0m\u001b[1;33m\u001b[0m\u001b[0m\n",
      "\u001b[1;32m~\\AppData\\Local\\Temp\\ipykernel_912\\405515065.py\u001b[0m in \u001b[0;36m<lambda>\u001b[1;34m(key_value)\u001b[0m\n\u001b[0;32m      1\u001b[0m \u001b[1;31m# mirror image of tuples (same function as above, mirrored input)\u001b[0m\u001b[1;33m\u001b[0m\u001b[1;33m\u001b[0m\u001b[0m\n\u001b[0;32m      2\u001b[0m \u001b[1;33m\u001b[0m\u001b[0m\n\u001b[1;32m----> 3\u001b[1;33m \u001b[0mmirror_image\u001b[0m \u001b[1;33m=\u001b[0m \u001b[0mlist\u001b[0m\u001b[1;33m(\u001b[0m\u001b[0mmap\u001b[0m\u001b[1;33m(\u001b[0m\u001b[1;33m(\u001b[0m\u001b[1;32mlambda\u001b[0m \u001b[0mkey_value\u001b[0m\u001b[1;33m:\u001b[0m \u001b[1;33m(\u001b[0m\u001b[0mkey_value\u001b[0m\u001b[1;33m[\u001b[0m\u001b[1;36m0\u001b[0m\u001b[1;33m]\u001b[0m\u001b[1;33m,\u001b[0m \u001b[1;33m-\u001b[0m\u001b[0mkey_value\u001b[0m\u001b[1;33m[\u001b[0m\u001b[1;36m1\u001b[0m\u001b[1;33m]\u001b[0m\u001b[1;33m)\u001b[0m\u001b[1;33m)\u001b[0m\u001b[1;33m,\u001b[0m \u001b[0msketch\u001b[0m\u001b[1;33m)\u001b[0m\u001b[1;33m)\u001b[0m\u001b[1;33m,\u001b[0m \u001b[0mh\u001b[0m \u001b[1;31m###TODO: -keyvalue? h?\u001b[0m\u001b[1;33m\u001b[0m\u001b[1;33m\u001b[0m\u001b[0m\n\u001b[0m\u001b[0;32m      4\u001b[0m \u001b[1;33m\u001b[0m\u001b[0m\n\u001b[0;32m      5\u001b[0m \u001b[0manti_terms\u001b[0m \u001b[1;33m=\u001b[0m \u001b[0mgenerate_term_keys\u001b[0m\u001b[1;33m(\u001b[0m \u001b[0mmirror_image\u001b[0m \u001b[1;33m)\u001b[0m\u001b[1;33m\u001b[0m\u001b[1;33m\u001b[0m\u001b[0m\n",
      "\u001b[1;31mTypeError\u001b[0m: bad operand type for unary -: 'str'"
     ]
    }
   ],
   "source": [
    "# mirror image of tuples (same function as above, mirrored input)\n",
    "\n",
    "mirror_image = list(map((lambda key_value: (key_value[0], -key_value[1])), sketch)), h ###TODO: -keyvalue? h?\n",
    "\n",
    "anti_terms = generate_term_keys( mirror_image )"
   ]
  },
  {
   "cell_type": "code",
   "execution_count": null,
   "id": "eadf5c74",
   "metadata": {
    "pycharm": {
     "name": "#%%\n"
    }
   },
   "outputs": [],
   "source": [
    "# pick smallest n terms for specific sample\n",
    "    inverted_index = load_index()\n",
    "    result = Counter()\n",
    "    result.update(\n",
    "        \"+:\" + table_id for term in terms for table_id in inverted_index[term]\n",
    "    )\n",
    "    result.update(\n",
    "        \"-:\" + table_id for term in anti_terms for table_id in inverted_index[term]\n",
    "    )\n",
    "    \n",
    "    sketch = result.most_common(10)\n",
    "    return sketch"
   ]
  },
  {
   "cell_type": "code",
   "execution_count": null,
   "id": "8d73ce22",
   "metadata": {
    "pycharm": {
     "name": "#%%\n"
    }
   },
   "outputs": [],
   "source": []
  },
  {
   "cell_type": "code",
   "execution_count": null,
   "id": "eda640fd",
   "metadata": {
    "pycharm": {
     "name": "#%%\n"
    }
   },
   "outputs": [],
   "source": []
  },
  {
   "cell_type": "code",
   "execution_count": null,
   "id": "2216e0f4",
   "metadata": {
    "pycharm": {
     "name": "#%%\n"
    }
   },
   "outputs": [],
   "source": []
  },
  {
   "cell_type": "code",
   "execution_count": null,
   "id": "b0e5d4a1",
   "metadata": {
    "pycharm": {
     "name": "#%%\n"
    }
   },
   "outputs": [],
   "source": []
  },
  {
   "cell_type": "code",
   "execution_count": null,
   "id": "ccf5f50c",
   "metadata": {},
   "outputs": [],
   "source": [
    "# 2. hash numerical values\n",
    "\n",
    "def create_sketch(\n",
    "    KC: List[str],                  C: List[numeric],\n",
    "    h: Callable[[str], int],        hu: Callable[[int], int],       n=100,\n",
    "    ) -> List[Tuple[str, numeric]]:\n",
    "    \n",
    "    sketch = heapq.nsmallest(n, zip(KC, C), key=lambda x: hu(h(x[0])))\n",
    "    ##       heapq.nsmallest(n, iterable  , key=funktion)\n",
    "    ##       n = return n smalllest results\n",
    "    ##       iterable = perform function on this data\n",
    "    ##       key = use this function, pick n smallest results and put on sorted heap (heapque)\n",
    "    \n",
    "    return sketch\n",
    "\n",
    "sketch = create_sketch(KC, C, h, hu)\n",
    "\n",
    "print(sketch)"
   ]
  },
  {
   "cell_type": "code",
   "execution_count": null,
   "id": "384a4636",
   "metadata": {},
   "outputs": [],
   "source": [
    "# 3. categorize keys by value and use as new key\n",
    "\n",
    "def generate_term_keys(sketch: List[Tuple[str, numeric]], h: Callable[[str], int]) -> List[int]:\n",
    "\n",
    "    # mue = median of all values of this tables numeric column\n",
    "    mue = sum([value for key, value in sketch]) / len(sketch)\n",
    "    \n",
    "    # categorize key by > median (+key) or < median (-key)\n",
    "    # hash categorized term\n",
    "    categorized_key = [h(f'{h(key)}{\"+1\" if value > mue else \"-1\"}') for key, value in sketch]\n",
    "    \n",
    "    return categorized_key\n",
    "\n",
    "\n",
    "hashed_terms = generate_term_keys(sketch, h)\n",
    "\n",
    "print(hashed_terms)"
   ]
  },
  {
   "cell_type": "code",
   "execution_count": null,
   "id": "e2241b4f",
   "metadata": {},
   "outputs": [],
   "source": [
    "## toy example to vizualize steps\n",
    "\n",
    "# TODO"
   ]
  },
  {
   "cell_type": "code",
   "execution_count": null,
   "id": "db60dd0e",
   "metadata": {},
   "outputs": [],
   "source": [
    "# 4. store hashed and categorized terms  (not sketch?)  in inverted index ???\n",
    "\n",
    "def add_to_inverted_index( inverted_index: DefaultDict[int, Set[str]],\n",
    "                           hashed_terms: List[int], \n",
    "                           table_id: str                                  ) -> None:\n",
    "\n",
    "    for term in hashed_terms:\n",
    "        inverted_index[term].add(table_id)\n",
    "\n",
    "table_id = get_table_id(table)\n",
    "add_to_inverted_index(inverted_index, hashed_terms, table_id)\n",
    "\n",
    "print(inverted_index)\n",
    "# 130988216787560463481282035084846401787: {'A_0'}\n",
    "# hashed categorized key/term"
   ]
  },
  {
   "cell_type": "code",
   "execution_count": null,
   "id": "bf160498",
   "metadata": {},
   "outputs": [],
   "source": []
  },
  {
   "cell_type": "code",
   "execution_count": null,
   "id": "dd255a07",
   "metadata": {},
   "outputs": [],
   "source": []
  },
  {
   "cell_type": "code",
   "execution_count": null,
   "id": "f4494406",
   "metadata": {
    "pycharm": {
     "name": "#%%\n"
    },
    "scrolled": false
   },
   "outputs": [],
   "source": [
    "### Query dataset (Q)\n",
    "\n",
    "df_Q = pd.DataFrame({'movies':['A','B','C','D','E'], \n",
    "                     'budget in mil €':[100, 200, 500, 300, 300],\n",
    "                     'stars':[2,3,4,4.8,3]})\n",
    "display(df_Q)\n",
    "\n",
    "print()\n",
    "print('hashed df:')\n",
    "h_k = df_Q['budget in mil €'].apply(lambda k: hash(k))\n",
    "df_Q['budget in mil €'] = h_k\n",
    "\n",
    "h_k = df_Q['stars'].apply(lambda k: hash(k))\n",
    "df_Q['stars'] = h_k\n",
    "\n",
    "display(df_Q)"
   ]
  },
  {
   "cell_type": "code",
   "execution_count": null,
   "id": "60561cf0",
   "metadata": {
    "pycharm": {
     "name": "#%%\n"
    }
   },
   "outputs": [],
   "source": [
    "### example of a corrolated and joinable dataset from the corpus (c):\n",
    "\n",
    "df_c = pd.DataFrame({'movies':['C','D','E','F','G',], \n",
    "                     'budget per staff':[1.2, 3.5, 8, 10, 4]})\n",
    "display(df_c)\n",
    "\n",
    "h_k = df_c['budget per staff'].apply(lambda k: hash(k))\n",
    "df_c['budget per staff'] = h_k\n",
    "display(df_c)\n",
    "#df = pd.DataFrame({'movies':['C','D','E','F','G',], 'sick days':[500, 50, 150, 175, 100]})\n",
    "#df"
   ]
  },
  {
   "cell_type": "code",
   "execution_count": null,
   "id": "93cf7c3e",
   "metadata": {
    "pycharm": {
     "name": "#%%\n"
    }
   },
   "outputs": [],
   "source": [
    "# choose sketch for each table"
   ]
  },
  {
   "cell_type": "markdown",
   "id": "8ce2ca36",
   "metadata": {},
   "source": [
    "### correlation:\n",
    "\n"
   ]
  },
  {
   "cell_type": "code",
   "execution_count": null,
   "id": "4ca2ec8a",
   "metadata": {
    "pycharm": {
     "name": "#%%\n"
    }
   },
   "outputs": [],
   "source": [
    "# find corrolated sketches and joinable sketches"
   ]
  },
  {
   "cell_type": "markdown",
   "id": "35df8b64",
   "metadata": {},
   "source": [
    "\n",
    "### joinability:"
   ]
  },
  {
   "cell_type": "code",
   "execution_count": null,
   "id": "b9149a46",
   "metadata": {},
   "outputs": [],
   "source": []
  },
  {
   "cell_type": "code",
   "execution_count": null,
   "id": "9651bfc4",
   "metadata": {},
   "outputs": [],
   "source": []
  },
  {
   "cell_type": "code",
   "execution_count": null,
   "id": "60cc3bab",
   "metadata": {},
   "outputs": [],
   "source": []
  },
  {
   "cell_type": "code",
   "execution_count": null,
   "id": "01568177",
   "metadata": {},
   "outputs": [],
   "source": [
    "def find_tables(query: pd.DataFrame) -> List[str]:\n",
    "    # 1. build 2-column-tables\n",
    "    KC = get_kc(query)\n",
    "    C = get_c(query)\n",
    "    \n",
    "    # create hash functions\n",
    "    h, hu = create_hash_functions()  # both hash functions are used to create the sketch (hu(h(k)))\n",
    "    \n",
    "    # hash numerical values\n",
    "    sketch = create_sketch(KC, C, h, hu)\n",
    "    \n",
    "    # categorize keys by value\n",
    "    terms = generate_term_keys(sketch, h)\n",
    "    \n",
    "    # mirror image\n",
    "    anti_terms = tk(\n",
    "        list(map((lambda key_value: (key_value[0], -key_value[1])), sketch)), h\n",
    "        )\n",
    "    \n",
    "    # pick smallest n terms for specific sample\n",
    "    inverted_index = load_index()\n",
    "    result = Counter()\n",
    "    result.update(\n",
    "        \"+:\" + table_id for term in terms for table_id in inverted_index[term]\n",
    "    )\n",
    "    result.update(\n",
    "        \"-:\" + table_id for term in anti_terms for table_id in inverted_index[term]\n",
    "    )\n",
    "    \n",
    "    sketch = result.most_common(10)\n",
    "    return sketch"
   ]
  },
  {
   "cell_type": "code",
   "execution_count": null,
   "id": "c92e69e7",
   "metadata": {},
   "outputs": [],
   "source": [
    "# mirror image of tuples (same function as above, mirrored input)\n",
    "\n",
    "mirror_image = list(map((lambda key_value: (key_value[0], -key_value[1])), sketch)), h\n",
    "\n",
    "anti_terms = generate_term_keys( mirror_image )"
   ]
  },
  {
   "cell_type": "code",
   "execution_count": null,
   "id": "cc052295",
   "metadata": {},
   "outputs": [],
   "source": [
    "# pick smallest n terms for specific sample\n",
    "    inverted_index = load_index()\n",
    "    result = Counter()\n",
    "    result.update(\n",
    "        \"+:\" + table_id for term in terms for table_id in inverted_index[term]\n",
    "    )\n",
    "    result.update(\n",
    "        \"-:\" + table_id for term in anti_terms for table_id in inverted_index[term]\n",
    "    )\n",
    "    \n",
    "    sketch = result.most_common(10)\n",
    "    return sketch"
   ]
  },
  {
   "cell_type": "code",
   "execution_count": null,
   "id": "45893cc9",
   "metadata": {},
   "outputs": [],
   "source": []
  },
  {
   "cell_type": "code",
   "execution_count": null,
   "id": "9067c7f1",
   "metadata": {},
   "outputs": [],
   "source": [
    "import pandas as pd\n",
    "df = pd.read_csv('data/Life_Expectancy_Data.csv', sep=';')\n",
    "df['Country'] = df['Country'].str.strip()"
   ]
  },
  {
   "cell_type": "code",
   "execution_count": null,
   "id": "f78d01fe",
   "metadata": {},
   "outputs": [],
   "source": [
    "df = df.groupby(['Country']).mean().reset_index(level=0)\n",
    "df_small = df[['Country','Life expectancy ', 'Alcohol', ' BMI ']]\n",
    "df_small"
   ]
  },
  {
   "cell_type": "code",
   "execution_count": null,
   "id": "d5bfb474",
   "metadata": {
    "collapsed": false
   },
   "outputs": [],
   "source": [
    "df_smaller = df_small.loc[df_small['Country'].isin(['Nigeria', 'Equatorial Guinea', 'Kazakhstan', 'Paraguay', 'Colombia', 'Armenia', 'Nicaragua', 'Montenegro', 'Maledives', 'Quatar', 'Germany', 'United States of America'])]\n",
    "q = df_smaller[['Country', 'Life expectancy ']]\n",
    "c1 = df_smaller[['Country', 'Alcohol']]\n",
    "c2 = df_smaller[['Country', ' BMI ']]\n",
    "df_smaller\n"
   ]
  },
  {
   "cell_type": "code",
   "execution_count": null,
   "id": "16b183df",
   "metadata": {
    "collapsed": false
   },
   "outputs": [],
   "source": [
    "df2 = pd.read_csv('data/countries_of_the_world.csv')\n",
    "display(df2)\n",
    "#display(df2['Country'])\n",
    "#display(df_small['Country'])\n",
    "#dfx = df2[['Country']].join(df_small[['Country']], lsuffix='_who', rsuffix='_kaggle')\n",
    "#dfx\n",
    "#df_merge = pd.merge(df_small, df2, on='Country',  how='left')\n",
    "#df_merge\n",
    "display(df2.dtypes)\n",
    "display(df_small.dtypes)\n",
    "df_join = df_small.join(df2, on='Country',  how='left', lsuffix='_who', rsuffix='_kaggle')\n",
    "df_join"
   ]
  },
  {
   "cell_type": "code",
   "execution_count": null,
   "id": "84f4cedc",
   "metadata": {
    "collapsed": false
   },
   "outputs": [],
   "source": []
  },
  {
   "cell_type": "code",
   "execution_count": null,
   "id": "7e8f4b5d",
   "metadata": {
    "collapsed": false
   },
   "outputs": [],
   "source": [
    "import pandas as pd\n",
    "df = pd.read_csv('data/Life_Expectancy_Data.csv', sep=';')\n",
    "df['Country'] = df['Country'].str.strip()\n",
    "df = df.groupby(['Country']).mean().reset_index(level=0)\n",
    "\n",
    "\n",
    "\n",
    "df2 = pd.read_csv('data/countries_of_the_world.csv')\n",
    "df2['Country'] = df2['Country'].str.strip()\n",
    "display(df2)\n",
    "#display(df2['Country'])\n",
    "#display(df_small['Country'])\n",
    "#dfx = df2[['Country']].join(df_small[['Country']], lsuffix='_who', rsuffix='_kaggle')\n",
    "#dfx\n",
    "#df_merge = pd.merge(df_small, df2, on='Country',  how='left')\n",
    "#df_merge\n",
    "\n",
    "#df2 = df2.astype({'Country': 'string'})\n",
    "#df_small = df_small.astype({'Country': 'string'})\n",
    "\n",
    "#df2 = df2.set_index('Country')\n",
    "#display(df2)\n",
    "#df_small = df_small.set_index('Country')\n",
    "#display(df_small)\n",
    "\n",
    "#df_obj = df2.select_dtypes(['object'])\n",
    "#df2[df_obj.columns] = df_obj.apply(lambda x: x.str.strip())\n",
    "\n",
    "#df_obj = df_small.select_dtypes(['object'])\n",
    "#df_small[df_obj.columns] = df_obj.apply(lambda x: x.str.strip())\n",
    "\n",
    "\n",
    "\n",
    "display(df2.dtypes)\n",
    "display(df.dtypes)\n",
    "#display(df2['Country'])\n",
    "#display(df_small['Country'])\n",
    "#df_join = df_small.join(df2, lsuffix='_who', rsuffix='_kaggle')\n",
    "#df_join\n",
    "\n",
    "df_join = df.join(df2.set_index('Country'), on='Country' , how='left', lsuffix='_who', rsuffix='_kaggle')\n",
    "\n",
    "#df_join = df_small.join(df2, on='Country',  how='left', lsuffix='_who', rsuffix='_kaggle')\n",
    "df_join"
   ]
  },
  {
   "cell_type": "code",
   "execution_count": null,
   "id": "10a3f528",
   "metadata": {
    "collapsed": false
   },
   "outputs": [],
   "source": [
    "df_small = df_join[['Country','Life expectancy ', 'Alcohol', ' BMI ']]\n",
    "df_small\n",
    "df_smaller = df_join.loc[df_small['Country'].isin(['Nigeria', 'Equatorial Guinea', 'Kazakhstan', 'Paraguay', 'Colombia', 'Armenia', 'Nicaragua', 'Montenegro', 'Maledives', 'Quatar', 'Germany', 'United States of America'])]\n",
    "display(df_smaller)\n",
    "q = df_smaller[['Country', 'Life expectancy ']]\n",
    "c1 = df_smaller[['Country', 'Alcohol']]\n",
    "c2 = df_smaller[['Country', ' BMI ']]\n",
    "c3 = df_smaller[['Country', 'Area (sq. mi.)']]\n",
    "display(q)\n",
    "display(c1)\n",
    "display(c2)\n",
    "display(c3)\n"
   ]
  },
  {
   "cell_type": "code",
   "execution_count": 1,
   "id": "4dd19689",
   "metadata": {
    "collapsed": false
   },
   "outputs": [
    {
     "ename": "NameError",
     "evalue": "name 'c2' is not defined",
     "output_type": "error",
     "traceback": [
      "\u001b[1;31m---------------------------------------------------------------------------\u001b[0m",
      "\u001b[1;31mNameError\u001b[0m                                 Traceback (most recent call last)",
      "\u001b[1;32m~\\AppData\\Local\\Temp\\ipykernel_912\\24353465.py\u001b[0m in \u001b[0;36m<module>\u001b[1;34m\u001b[0m\n\u001b[1;32m----> 1\u001b[1;33m \u001b[0mc2\u001b[0m\u001b[1;33m.\u001b[0m\u001b[0mto_csv\u001b[0m\u001b[1;33m(\u001b[0m\u001b[1;34m'c2.csv'\u001b[0m\u001b[1;33m,\u001b[0m \u001b[0mindex\u001b[0m\u001b[1;33m=\u001b[0m\u001b[1;32mFalse\u001b[0m\u001b[1;33m)\u001b[0m\u001b[1;33m\u001b[0m\u001b[1;33m\u001b[0m\u001b[0m\n\u001b[0m\u001b[0;32m      2\u001b[0m \u001b[0mc3\u001b[0m\u001b[1;33m.\u001b[0m\u001b[0mto_csv\u001b[0m\u001b[1;33m(\u001b[0m\u001b[1;34m'c3.csv'\u001b[0m\u001b[1;33m,\u001b[0m \u001b[0mindex\u001b[0m\u001b[1;33m=\u001b[0m\u001b[1;32mFalse\u001b[0m\u001b[1;33m)\u001b[0m\u001b[1;33m\u001b[0m\u001b[1;33m\u001b[0m\u001b[0m\n\u001b[0;32m      3\u001b[0m \u001b[0mq\u001b[0m\u001b[1;33m.\u001b[0m\u001b[0mto_csv\u001b[0m\u001b[1;33m(\u001b[0m\u001b[1;34m'q.csv'\u001b[0m\u001b[1;33m,\u001b[0m \u001b[0mindex\u001b[0m\u001b[1;33m=\u001b[0m\u001b[1;32mFalse\u001b[0m\u001b[1;33m)\u001b[0m\u001b[1;33m\u001b[0m\u001b[1;33m\u001b[0m\u001b[0m\n",
      "\u001b[1;31mNameError\u001b[0m: name 'c2' is not defined"
     ]
    }
   ],
   "source": [
    "c2.to_csv('c2.csv', index=False)\n",
    "c3.to_csv('c3.csv', index=False)\n",
    "q.to_csv('q.csv', index=False)"
   ]
  },
  {
   "cell_type": "code",
   "execution_count": null,
   "metadata": {
    "collapsed": false
   },
   "outputs": [],
   "source": []
  },
  {
   "cell_type": "markdown",
   "id": "e80bda3c",
   "metadata": {},
   "source": [
    "### Conclusion\n",
    "As you hopefully have understood the approach, we want to emphasize the efficiency and high recall proven by their experiments. An example usage of this approach is to faster train machine learning models to predict our categorical value accodring to the numerical values provided. "
   ]
  },
  {
   "cell_type": "markdown",
   "id": "1922d114",
   "metadata": {},
   "source": []
  }
 ],
 "metadata": {
  "kernelspec": {
   "display_name": "Python 3.9.13 ('base')",
   "language": "python",
   "name": "python3"
  },
  "language_info": {
   "codemirror_mode": {
    "name": "ipython",
    "version": 3
   },
   "file_extension": ".py",
   "mimetype": "text/x-python",
   "name": "python",
   "nbconvert_exporter": "python",
   "pygments_lexer": "ipython3",
   "version": "3.9.13"
  },
  "vscode": {
   "interpreter": {
    "hash": "46e4a47807dea1f1b7eb10382ac3f4f68ec1e3bb8974f18e6e746c4898b6fcc3"
   }
  }
 },
 "nbformat": 4,
 "nbformat_minor": 5
}
