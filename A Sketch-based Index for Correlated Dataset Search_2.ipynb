{
 "cells": [
  {
   "cell_type": "code",
   "execution_count": 1,
   "id": "9eefc4aa",
   "metadata": {},
   "outputs": [],
   "source": [
    "# paper name\n",
    "\n",
    "# motivation (of paper)\n",
    "\n",
    "# walkthrough\n",
    "# am beispiel Lebenserwartung..."
   ]
  },
  {
   "cell_type": "markdown",
   "id": "37081b98",
   "metadata": {
    "pycharm": {
     "name": "#%% md\n"
    }
   },
   "source": [
    "## A Sketch-based Index for Correlated Dataset Search\n",
    "\n",
    "### Motivation\n",
    "\n",
    "With the ever-rising amount of data available, recent researched explored queries where we want to enlarge our dataset by finding related data. This means finding the top-k tables which are joinable and correlated to our inital dataset. As these searches can be quite long they propose a more efficient and effective way of finding these tables than just naively querying over the whole data collection, which might take quite a bit. Their proposed idea has shown to achieve better results than other approaches regarding ranking accruacy and recall. \n",
    "In this notebook we want to offer you an understandable explanation of the proposed Solution and hope you are able to grasp all of it.\n",
    "\n",
    "### Discovering Data with joinable keys and correlated data.\n",
    "\n",
    "Steps of the algorithm:\n",
    "1. build index of tables in DB\n",
    "    - split larger tables into 2-col-tables (cross product)\n",
    "    - creating a sketch of size n of each table in the Database\n",
    "    - build the index\n",
    "    \n",
    "    \n",
    "2. query\n",
    "    - creating a sketch of the query table\n",
    "    - find correlated and joinable tables for the query-table\n",
    "(finding set overlap between the two sketches ?)\n",
    "    "
   ]
  },
  {
   "cell_type": "markdown",
   "id": "a4604d91",
   "metadata": {},
   "source": [
    "### building the index:\n",
    "\n",
    "1. all tables with more then 2 columns are split:\n",
    "    - all numerical columns are combined with all columns containig categorical values\n",
    "<br>\n",
    "\n",
    "2. all keys k (categorical values) per table are hashed and stored as tuple with their numeric value c_k\n",
    "    - <h(k), c_k>\n",
    "    - for performance reason the sketch size is applied here: only the smallest n hashed values are kept\n",
    "<br>\n",
    "\n",
    "3. all categorical keys (c_k) are modified according to their hashed values (h(k))\n",
    "    - if the hashed value is below or above the median of all table values, c_k is categorized in -c_k or +c_k respectively\n",
    "    - <h(k), +/-c_k>\n",
    "    - this is used to identify correlation\n",
    "<br>\n",
    "\n",
    "4. picking a specific sample (=sketch) of size n per table, using n tuples with smallest hash-value\n",
    "    - this way the samples are comparable\n"
   ]
  },
  {
   "cell_type": "code",
   "execution_count": 2,
   "outputs": [],
   "source": [
    "import pandas as pd\n",
    "import qcr\n",
    "from collections import Counter\n",
    "from collections import defaultdict\n",
    "from qcr import load_index, get_kc, get_c, hash_function, build_index, key_labeling"
   ],
   "metadata": {
    "collapsed": false
   }
  },
  {
   "cell_type": "markdown",
   "id": "ef13162b",
   "metadata": {},
   "source": [
    "#### Step 1\n",
    "In this example we want to find data correlating to the life expectancy in certain countries. \n",
    "We start by building the index. Therefore we first load 3 tables conatining example data. "
   ]
  },
  {
   "cell_type": "code",
   "execution_count": 3,
   "id": "8527c238",
   "metadata": {},
   "outputs": [
    {
     "data": {
      "text/plain": "t1                   Country    Alcohol\n0                    Armenia   3.702667\n1                   Colombia   4.419333\n2          Equatorial Guinea   7.342000\n3                    Germany  11.628667\n4                 Kazakhstan   6.641333\n5                 Montenegro   2.584286\n6                  Nicaragua   3.596667\n7                    Nigeria   8.646667\n8                   Paraguay   5.527333\n9   United States of America   8.579333",
      "text/html": "<div>\n<style scoped>\n    .dataframe tbody tr th:only-of-type {\n        vertical-align: middle;\n    }\n\n    .dataframe tbody tr th {\n        vertical-align: top;\n    }\n\n    .dataframe thead th {\n        text-align: right;\n    }\n</style>\n<table border=\"1\" class=\"dataframe\">\n  <thead>\n    <tr style=\"text-align: right;\">\n      <th>t1</th>\n      <th>Country</th>\n      <th>Alcohol</th>\n    </tr>\n  </thead>\n  <tbody>\n    <tr>\n      <th>0</th>\n      <td>Armenia</td>\n      <td>3.702667</td>\n    </tr>\n    <tr>\n      <th>1</th>\n      <td>Colombia</td>\n      <td>4.419333</td>\n    </tr>\n    <tr>\n      <th>2</th>\n      <td>Equatorial Guinea</td>\n      <td>7.342000</td>\n    </tr>\n    <tr>\n      <th>3</th>\n      <td>Germany</td>\n      <td>11.628667</td>\n    </tr>\n    <tr>\n      <th>4</th>\n      <td>Kazakhstan</td>\n      <td>6.641333</td>\n    </tr>\n    <tr>\n      <th>5</th>\n      <td>Montenegro</td>\n      <td>2.584286</td>\n    </tr>\n    <tr>\n      <th>6</th>\n      <td>Nicaragua</td>\n      <td>3.596667</td>\n    </tr>\n    <tr>\n      <th>7</th>\n      <td>Nigeria</td>\n      <td>8.646667</td>\n    </tr>\n    <tr>\n      <th>8</th>\n      <td>Paraguay</td>\n      <td>5.527333</td>\n    </tr>\n    <tr>\n      <th>9</th>\n      <td>United States of America</td>\n      <td>8.579333</td>\n    </tr>\n  </tbody>\n</table>\n</div>"
     },
     "metadata": {},
     "output_type": "display_data"
    },
    {
     "data": {
      "text/plain": "t2                   Country      BMI \n0                    Armenia  44.70625\n1                   Colombia  49.54375\n2          Equatorial Guinea  17.85625\n3                    Germany  51.99375\n4                 Kazakhstan  45.15625\n5                 Montenegro  50.48750\n6                  Nicaragua  42.68125\n7                    Nigeria  19.75000\n8                   Paraguay  39.52500\n9   United States of America  58.45000",
      "text/html": "<div>\n<style scoped>\n    .dataframe tbody tr th:only-of-type {\n        vertical-align: middle;\n    }\n\n    .dataframe tbody tr th {\n        vertical-align: top;\n    }\n\n    .dataframe thead th {\n        text-align: right;\n    }\n</style>\n<table border=\"1\" class=\"dataframe\">\n  <thead>\n    <tr style=\"text-align: right;\">\n      <th>t2</th>\n      <th>Country</th>\n      <th>BMI</th>\n    </tr>\n  </thead>\n  <tbody>\n    <tr>\n      <th>0</th>\n      <td>Armenia</td>\n      <td>44.70625</td>\n    </tr>\n    <tr>\n      <th>1</th>\n      <td>Colombia</td>\n      <td>49.54375</td>\n    </tr>\n    <tr>\n      <th>2</th>\n      <td>Equatorial Guinea</td>\n      <td>17.85625</td>\n    </tr>\n    <tr>\n      <th>3</th>\n      <td>Germany</td>\n      <td>51.99375</td>\n    </tr>\n    <tr>\n      <th>4</th>\n      <td>Kazakhstan</td>\n      <td>45.15625</td>\n    </tr>\n    <tr>\n      <th>5</th>\n      <td>Montenegro</td>\n      <td>50.48750</td>\n    </tr>\n    <tr>\n      <th>6</th>\n      <td>Nicaragua</td>\n      <td>42.68125</td>\n    </tr>\n    <tr>\n      <th>7</th>\n      <td>Nigeria</td>\n      <td>19.75000</td>\n    </tr>\n    <tr>\n      <th>8</th>\n      <td>Paraguay</td>\n      <td>39.52500</td>\n    </tr>\n    <tr>\n      <th>9</th>\n      <td>United States of America</td>\n      <td>58.45000</td>\n    </tr>\n  </tbody>\n</table>\n</div>"
     },
     "metadata": {},
     "output_type": "display_data"
    },
    {
     "data": {
      "text/plain": "t3                   Country  Area (sq. mi.)\n0                    Armenia         29800.0\n1                   Colombia       1138910.0\n2          Equatorial Guinea         28051.0\n3                    Germany        357021.0\n4                 Kazakhstan       2717300.0\n5                 Montenegro          5333.0\n6                  Nicaragua        129494.0\n7                    Nigeria        923768.0\n8                   Paraguay        406750.0\n9   United States of America       3796742.0",
      "text/html": "<div>\n<style scoped>\n    .dataframe tbody tr th:only-of-type {\n        vertical-align: middle;\n    }\n\n    .dataframe tbody tr th {\n        vertical-align: top;\n    }\n\n    .dataframe thead th {\n        text-align: right;\n    }\n</style>\n<table border=\"1\" class=\"dataframe\">\n  <thead>\n    <tr style=\"text-align: right;\">\n      <th>t3</th>\n      <th>Country</th>\n      <th>Area (sq. mi.)</th>\n    </tr>\n  </thead>\n  <tbody>\n    <tr>\n      <th>0</th>\n      <td>Armenia</td>\n      <td>29800.0</td>\n    </tr>\n    <tr>\n      <th>1</th>\n      <td>Colombia</td>\n      <td>1138910.0</td>\n    </tr>\n    <tr>\n      <th>2</th>\n      <td>Equatorial Guinea</td>\n      <td>28051.0</td>\n    </tr>\n    <tr>\n      <th>3</th>\n      <td>Germany</td>\n      <td>357021.0</td>\n    </tr>\n    <tr>\n      <th>4</th>\n      <td>Kazakhstan</td>\n      <td>2717300.0</td>\n    </tr>\n    <tr>\n      <th>5</th>\n      <td>Montenegro</td>\n      <td>5333.0</td>\n    </tr>\n    <tr>\n      <th>6</th>\n      <td>Nicaragua</td>\n      <td>129494.0</td>\n    </tr>\n    <tr>\n      <th>7</th>\n      <td>Nigeria</td>\n      <td>923768.0</td>\n    </tr>\n    <tr>\n      <th>8</th>\n      <td>Paraguay</td>\n      <td>406750.0</td>\n    </tr>\n    <tr>\n      <th>9</th>\n      <td>United States of America</td>\n      <td>3796742.0</td>\n    </tr>\n  </tbody>\n</table>\n</div>"
     },
     "metadata": {},
     "output_type": "display_data"
    }
   ],
   "source": [
    "# part 1: building the index\n",
    "\n",
    "## The following Notebook will walk you through the steps using the following sample data. #TODO: sample data with less or more columns? Table with more columns?\n",
    "## todo: table multiple columns\n",
    "## The tables are used to create our index.\n",
    "\n",
    "table1 = pd.read_csv('data/t1.csv')\n",
    "table1.columns.name = 't1'\n",
    "display(table1)\n",
    "\n",
    "table2 = pd.read_csv('data/t2.csv')\n",
    "table2.columns.name = 't2'\n",
    "display(table2)\n",
    "\n",
    "table3 = pd.read_csv('data/t3.csv')\n",
    "table3.columns.name = 't3'\n",
    "display(table3)"
   ]
  },
  {
   "cell_type": "code",
   "execution_count": 4,
   "id": "bf3a9c59",
   "metadata": {},
   "outputs": [
    {
     "name": "stdout",
     "output_type": "stream",
     "text": [
      "cat_col:\n",
      "['Armenia', 'Colombia', 'Equatorial Guinea', 'Germany', 'Kazakhstan', 'Montenegro', 'Nicaragua', 'Nigeria', 'Paraguay', 'United States of America']\n",
      "num_col:\n",
      "[3.7026666666666666, 4.419333333333333, 7.342, 11.628666666666668, 6.641333333333334, 2.584285714285714, 3.5966666666666667, 8.646666666666667, 5.527333333333333, 8.579333333333333]\n"
     ]
    },
    {
     "data": {
      "text/plain": "t1                   Country    Alcohol\n0                    Armenia   3.702667\n1                   Colombia   4.419333\n2          Equatorial Guinea   7.342000\n3                    Germany  11.628667\n4                 Kazakhstan   6.641333\n5                 Montenegro   2.584286\n6                  Nicaragua   3.596667\n7                    Nigeria   8.646667\n8                   Paraguay   5.527333\n9   United States of America   8.579333",
      "text/html": "<div>\n<style scoped>\n    .dataframe tbody tr th:only-of-type {\n        vertical-align: middle;\n    }\n\n    .dataframe tbody tr th {\n        vertical-align: top;\n    }\n\n    .dataframe thead th {\n        text-align: right;\n    }\n</style>\n<table border=\"1\" class=\"dataframe\">\n  <thead>\n    <tr style=\"text-align: right;\">\n      <th>t1</th>\n      <th>Country</th>\n      <th>Alcohol</th>\n    </tr>\n  </thead>\n  <tbody>\n    <tr>\n      <th>0</th>\n      <td>Armenia</td>\n      <td>3.702667</td>\n    </tr>\n    <tr>\n      <th>1</th>\n      <td>Colombia</td>\n      <td>4.419333</td>\n    </tr>\n    <tr>\n      <th>2</th>\n      <td>Equatorial Guinea</td>\n      <td>7.342000</td>\n    </tr>\n    <tr>\n      <th>3</th>\n      <td>Germany</td>\n      <td>11.628667</td>\n    </tr>\n    <tr>\n      <th>4</th>\n      <td>Kazakhstan</td>\n      <td>6.641333</td>\n    </tr>\n    <tr>\n      <th>5</th>\n      <td>Montenegro</td>\n      <td>2.584286</td>\n    </tr>\n    <tr>\n      <th>6</th>\n      <td>Nicaragua</td>\n      <td>3.596667</td>\n    </tr>\n    <tr>\n      <th>7</th>\n      <td>Nigeria</td>\n      <td>8.646667</td>\n    </tr>\n    <tr>\n      <th>8</th>\n      <td>Paraguay</td>\n      <td>5.527333</td>\n    </tr>\n    <tr>\n      <th>9</th>\n      <td>United States of America</td>\n      <td>8.579333</td>\n    </tr>\n  </tbody>\n</table>\n</div>"
     },
     "execution_count": 4,
     "metadata": {},
     "output_type": "execute_result"
    }
   ],
   "source": [
    "# 1. extracting numerical column (feature) and categorical column (key)\n",
    "\n",
    "cat_col = get_kc(table1)\n",
    "num_col = get_c(table1)\n",
    "\n",
    "print(\"cat_col:\")\n",
    "print(cat_col)\n",
    "print(\"num_col:\")\n",
    "print(num_col)\n",
    "\n",
    "# (if a table consists of more than 2 cols, all numerical and categorical columns are combined into 2-col-tables (cross product). here, we simply keep using our original table)\n",
    "\n",
    "# table1, table2, table3 = build_cross_product(cat_col, num_col)\n",
    "\n",
    "table1"
   ]
  },
  {
   "cell_type": "markdown",
   "id": "cba3ee91",
   "metadata": {},
   "source": [
    "#### Step 2\n",
    "Now we have tables conaining only one categorical column and a numercial column. <br>\n",
    "We can start hashing the numerical columns. For performance reasons it is advised to limit the sketch size. <br>\n",
    "Allthough not necessary in this small case, we want to emphasize the scalability of this apporoach and used the limit of 3."
   ]
  },
  {
   "cell_type": "code",
   "execution_count": 15,
   "id": "ff6ecba6",
   "metadata": {},
   "outputs": [
    {
     "name": "stdout",
     "output_type": "stream",
     "text": [
      "t1                   Country    Alcohol  hashed_values\n",
      "0                    Armenia   3.702667  -1.040467e-39\n",
      "1                   Colombia   4.419333  -3.321928e-41\n",
      "2          Equatorial Guinea   7.342000  -6.294744e-40\n",
      "3                    Germany  11.628667   9.140805e-40\n",
      "4                 Kazakhstan   6.641333   5.083309e-40\n",
      "5                 Montenegro   2.584286   3.881950e-40\n",
      "6                  Nicaragua   3.596667  -9.162508e-40\n",
      "7                    Nigeria   8.646667   1.278178e-39\n",
      "8                   Paraguay   5.527333   6.044821e-41\n",
      "9   United States of America   8.579333  -3.869834e-40\n",
      "\n",
      "sketch of t1:\n"
     ]
    },
    {
     "data": {
      "text/plain": "t1            Country   Alcohol  hashed_values\n0             Armenia  3.702667  -1.040467e-39\n6           Nicaragua  3.596667  -9.162508e-40\n2   Equatorial Guinea  7.342000  -6.294744e-40",
      "text/html": "<div>\n<style scoped>\n    .dataframe tbody tr th:only-of-type {\n        vertical-align: middle;\n    }\n\n    .dataframe tbody tr th {\n        vertical-align: top;\n    }\n\n    .dataframe thead th {\n        text-align: right;\n    }\n</style>\n<table border=\"1\" class=\"dataframe\">\n  <thead>\n    <tr style=\"text-align: right;\">\n      <th>t1</th>\n      <th>Country</th>\n      <th>Alcohol</th>\n      <th>hashed_values</th>\n    </tr>\n  </thead>\n  <tbody>\n    <tr>\n      <th>0</th>\n      <td>Armenia</td>\n      <td>3.702667</td>\n      <td>-1.040467e-39</td>\n    </tr>\n    <tr>\n      <th>6</th>\n      <td>Nicaragua</td>\n      <td>3.596667</td>\n      <td>-9.162508e-40</td>\n    </tr>\n    <tr>\n      <th>2</th>\n      <td>Equatorial Guinea</td>\n      <td>7.342000</td>\n      <td>-6.294744e-40</td>\n    </tr>\n  </tbody>\n</table>\n</div>"
     },
     "execution_count": 15,
     "metadata": {},
     "output_type": "execute_result"
    }
   ],
   "source": [
    "# 2. create sketch by hashing numerical values and picking n smallest. #TODO: oben steht numerische Spalten hashen. Hier jetzt aber beide?\n",
    "\n",
    "hashed_table1 = table1.copy()\n",
    "hashed_table1['hashed_values'] = table1['Country'].map(hash_function)\n",
    "print(hashed_table1)\n",
    "\n",
    "# now we only keep n rows with the smallest hashed values. those rows form the sketch for this table:\n",
    "\n",
    "sketch = hashed_table1.nsmallest(3, 'hashed_values')\n",
    "print('\\nsketch of t1:')\n",
    "sketch\n"
   ]
  },
  {
   "cell_type": "markdown",
   "id": "1a5d280e",
   "metadata": {},
   "source": [
    "#### Step 3\n",
    "Now the paper labels the hashed_keys according to the mean of the values.<br>\n",
    "To increase Readability we use the actual keys instead of the hashed keys here.<br>\n",
    "Any value below our mean has its key (or categorical column) concatenated with \"-1\", while any hashed_value above the mean has its key concatenated with \"+1\"."
   ]
  },
  {
   "cell_type": "code",
   "execution_count": 16,
   "id": "1f5b0479",
   "metadata": {},
   "outputs": [
    {
     "name": "stdout",
     "output_type": "stream",
     "text": [
      "t1            Country   Alcohol  hashed_values         labeled_keys\n",
      "0             Armenia  3.702667  -1.040467e-39            Armenia-1\n",
      "6           Nicaragua  3.596667  -9.162508e-40          Nicaragua-1\n",
      "2   Equatorial Guinea  7.342000  -6.294744e-40  Equatorial Guinea+1\n"
     ]
    }
   ],
   "source": [
    "# 3. categorize keys by value and use as new key\n",
    "\n",
    "# first we calculate the mean of all values of this tables numeric column\n",
    "mean = sketch['Alcohol'].mean()\n",
    "\n",
    "\n",
    "# then label key by > median (key+1) or < median (key-1)\n",
    "sketch['labeled_keys'] = [f'{key}{\"+1\" if value > mean else \"-1\"}' for key, value, hash_key in sketch.values]\n",
    "\n",
    "print(sketch)"
   ]
  },
  {
   "cell_type": "markdown",
   "id": "b5cfe867",
   "metadata": {},
   "source": [
    "#### Step 4\n",
    "We finally can complete our inverted index by merging our sketches into our full inverted index. "
   ]
  },
  {
   "cell_type": "code",
   "execution_count": 17,
   "id": "e02f0139",
   "metadata": {},
   "outputs": [
    {
     "data": {
      "text/plain": "defaultdict(set,\n            {'Armenia-1': {'t1'},\n             'Nicaragua-1': {'t1'},\n             'Equatorial Guinea+1': {'t1'}})"
     },
     "execution_count": 17,
     "metadata": {},
     "output_type": "execute_result"
    }
   ],
   "source": [
    "# 4. store hashed and categorized terms of sketch in inverted index #TODO: Hier bauen wir den inverted index aus den sketches? Und dannach aus den vollständigen tabellen im schnelldurchlauf?\n",
    "#TODO: Reihenfolge der Zellausführungen beachten. Umbenennungen erforderlich\n",
    "table_id = 't1'\n",
    "inverted_index = defaultdict(set)\n",
    "\n",
    "for term in sketch['labeled_keys']:\n",
    "    inverted_index[term].add(table_id)\n",
    "\n",
    "\n",
    "inverted_index\n"
   ]
  },
  {
   "cell_type": "code",
   "execution_count": 18,
   "id": "68d99b1f",
   "metadata": {},
   "outputs": [
    {
     "name": "stdout",
     "output_type": "stream",
     "text": [
      "inverted Index:\n"
     ]
    },
    {
     "data": {
      "text/plain": "{'Armenia+1': {'t2'},\n 'Armenia-1': {'t1', 't3'},\n 'Colombia+1': {'t2', 't3'},\n 'Colombia-1': {'t1', 't3'},\n 'Equatorial Guinea+1': {'t1'},\n 'Equatorial Guinea-1': {'t2', 't3'},\n 'Nicaragua+1': {'t2', 't3'},\n 'Nicaragua-1': {'t1', 't3'},\n 'United States of America+1': {'t1', 't2', 't3'},\n 'United States of America-1': {'t3'}}"
     },
     "execution_count": 18,
     "metadata": {},
     "output_type": "execute_result"
    }
   ],
   "source": [
    "### the above is an example for one table, the function \"build_index\" from qcr.py executes all the above steps. The full code can be found in qcr.py\n",
    "\n",
    "# now we  import all three tables into the same index\n",
    "build_index([table1, table2, table3], n=5)\n",
    "inverted_index = load_index()\n",
    "inverted_index = dict(sorted(inverted_index.items()))  # sort index for better comparison\n",
    "print('inverted Index:')\n",
    "inverted_index"
   ]
  },
  {
   "cell_type": "markdown",
   "id": "02ce9cd5",
   "metadata": {},
   "source": [
    "We now have build our inverted index for searching. Now we can use a query table to find correlated data.\n",
    "\n",
    "### Querying the index\n",
    "#### Step 1\n",
    "We start by building the inverted index for the sketch of our query data."
   ]
  },
  {
   "cell_type": "code",
   "execution_count": 19,
   "id": "a40af0a3",
   "metadata": {},
   "outputs": [
    {
     "data": {
      "text/plain": "q                   Country  Life expectancy \n0                   Armenia          73.40000\n1                  Colombia          73.28750\n2         Equatorial Guinea          55.31250\n3                   Germany          81.17500\n4                Kazakhstan          66.76250\n5                Montenegro          74.50000\n6                 Nicaragua          73.45000\n7                   Nigeria          51.35625\n8                  Paraguay          73.11250\n9  United States of America          78.06250",
      "text/html": "<div>\n<style scoped>\n    .dataframe tbody tr th:only-of-type {\n        vertical-align: middle;\n    }\n\n    .dataframe tbody tr th {\n        vertical-align: top;\n    }\n\n    .dataframe thead th {\n        text-align: right;\n    }\n</style>\n<table border=\"1\" class=\"dataframe\">\n  <thead>\n    <tr style=\"text-align: right;\">\n      <th>q</th>\n      <th>Country</th>\n      <th>Life expectancy</th>\n    </tr>\n  </thead>\n  <tbody>\n    <tr>\n      <th>0</th>\n      <td>Armenia</td>\n      <td>73.40000</td>\n    </tr>\n    <tr>\n      <th>1</th>\n      <td>Colombia</td>\n      <td>73.28750</td>\n    </tr>\n    <tr>\n      <th>2</th>\n      <td>Equatorial Guinea</td>\n      <td>55.31250</td>\n    </tr>\n    <tr>\n      <th>3</th>\n      <td>Germany</td>\n      <td>81.17500</td>\n    </tr>\n    <tr>\n      <th>4</th>\n      <td>Kazakhstan</td>\n      <td>66.76250</td>\n    </tr>\n    <tr>\n      <th>5</th>\n      <td>Montenegro</td>\n      <td>74.50000</td>\n    </tr>\n    <tr>\n      <th>6</th>\n      <td>Nicaragua</td>\n      <td>73.45000</td>\n    </tr>\n    <tr>\n      <th>7</th>\n      <td>Nigeria</td>\n      <td>51.35625</td>\n    </tr>\n    <tr>\n      <th>8</th>\n      <td>Paraguay</td>\n      <td>73.11250</td>\n    </tr>\n    <tr>\n      <th>9</th>\n      <td>United States of America</td>\n      <td>78.06250</td>\n    </tr>\n  </tbody>\n</table>\n</div>"
     },
     "metadata": {},
     "output_type": "display_data"
    },
    {
     "name": "stdout",
     "output_type": "stream",
     "text": [
      "search terms:\n"
     ]
    },
    {
     "data": {
      "text/plain": "['Armenia+1',\n 'Nicaragua+1',\n 'Equatorial Guinea-1',\n 'United States of America+1',\n 'Colombia+1']"
     },
     "execution_count": 19,
     "metadata": {},
     "output_type": "execute_result"
    }
   ],
   "source": [
    "# load query table: (key & target)\n",
    "query = pd.read_csv('data/q.csv')\n",
    "query.columns.name = 'q'\n",
    "display(query)\n",
    "\n",
    "# as above:\n",
    "# 1. build sketch of query table\n",
    "sketch = qcr.create_sketch(query['Country'], query['Life expectancy '], hash_function, n=5)\n",
    "# 2. generate terms\n",
    "search_terms = qcr.key_labeling(sketch)\n",
    "print(\"search terms:\")\n",
    "search_terms"
   ]
  },
  {
   "cell_type": "markdown",
   "source": [
    "### negative correlation\n",
    "as we also might be interested in negative correlation, we negate the values and build a second set of labeled keys.\n",
    "This results in two query tables: one for positive correlation, one for negative."
   ],
   "metadata": {
    "collapsed": false
   }
  },
  {
   "cell_type": "code",
   "execution_count": 20,
   "outputs": [
    {
     "name": "stdout",
     "output_type": "stream",
     "text": [
      "inverse search terms:\n"
     ]
    },
    {
     "data": {
      "text/plain": "['Armenia-1',\n 'Nicaragua-1',\n 'Equatorial Guinea+1',\n 'United States of America-1',\n 'Colombia-1']"
     },
     "execution_count": 20,
     "metadata": {},
     "output_type": "execute_result"
    }
   ],
   "source": [
    "# 3.  inverse values of sketch\n",
    "# for negative correlation\n",
    "inverse_search_terms = key_labeling(\n",
    "    list(map((lambda key_value: (key_value[0], -key_value[1])), sketch))\n",
    "    ) # same function as above, input key is inverted\n",
    "print(\"inverse search terms:\")\n",
    "inverse_search_terms"
   ],
   "metadata": {
    "collapsed": false
   }
  },
  {
   "cell_type": "markdown",
   "id": "5ca4055e",
   "metadata": {},
   "source": [
    "#### Step 2\n",
    "Using our new search terms, we can now query the index. We then count which table comes up how often in the results.\n",
    "we limit the output to the ten most correlated tables"
   ]
  },
  {
   "cell_type": "code",
   "execution_count": 21,
   "id": "b3eb81da",
   "metadata": {},
   "outputs": [
    {
     "data": {
      "text/plain": "[('+:t2', 5), ('+:t3', 4), ('-:t1', 4), ('-:t3', 4), ('+:t1', 1)]"
     },
     "execution_count": 21,
     "metadata": {},
     "output_type": "execute_result"
    }
   ],
   "source": [
    "# execute query\n",
    "# 1. load index\n",
    "inverted_index = load_index()\n",
    "\n",
    "# count how many tables match the search terms\n",
    "result = Counter()\n",
    "result.update(\n",
    "    \"+:\" + table_id for term in search_terms for table_id in inverted_index[term]\n",
    ")\n",
    "result.update(\n",
    "    \"-:\" + table_id for term in inverse_search_terms for table_id in inverted_index[term]\n",
    ")\n",
    "\n",
    "sketch = result.most_common(10)\n",
    "sketch"
   ]
  },
  {
   "cell_type": "code",
   "execution_count": 22,
   "id": "1051d1b0",
   "metadata": {},
   "outputs": [],
   "source": [
    "# we see t2 and t1 are correlated"
   ]
  },
  {
   "cell_type": "code",
   "execution_count": 23,
   "outputs": [
    {
     "data": {
      "text/plain": "t1                   Country    Alcohol\n0                    Armenia   3.702667\n1                   Colombia   4.419333\n2          Equatorial Guinea   7.342000\n3                    Germany  11.628667\n4                 Kazakhstan   6.641333\n5                 Montenegro   2.584286\n6                  Nicaragua   3.596667\n7                    Nigeria   8.646667\n8                   Paraguay   5.527333\n9   United States of America   8.579333",
      "text/html": "<div>\n<style scoped>\n    .dataframe tbody tr th:only-of-type {\n        vertical-align: middle;\n    }\n\n    .dataframe tbody tr th {\n        vertical-align: top;\n    }\n\n    .dataframe thead th {\n        text-align: right;\n    }\n</style>\n<table border=\"1\" class=\"dataframe\">\n  <thead>\n    <tr style=\"text-align: right;\">\n      <th>t1</th>\n      <th>Country</th>\n      <th>Alcohol</th>\n    </tr>\n  </thead>\n  <tbody>\n    <tr>\n      <th>0</th>\n      <td>Armenia</td>\n      <td>3.702667</td>\n    </tr>\n    <tr>\n      <th>1</th>\n      <td>Colombia</td>\n      <td>4.419333</td>\n    </tr>\n    <tr>\n      <th>2</th>\n      <td>Equatorial Guinea</td>\n      <td>7.342000</td>\n    </tr>\n    <tr>\n      <th>3</th>\n      <td>Germany</td>\n      <td>11.628667</td>\n    </tr>\n    <tr>\n      <th>4</th>\n      <td>Kazakhstan</td>\n      <td>6.641333</td>\n    </tr>\n    <tr>\n      <th>5</th>\n      <td>Montenegro</td>\n      <td>2.584286</td>\n    </tr>\n    <tr>\n      <th>6</th>\n      <td>Nicaragua</td>\n      <td>3.596667</td>\n    </tr>\n    <tr>\n      <th>7</th>\n      <td>Nigeria</td>\n      <td>8.646667</td>\n    </tr>\n    <tr>\n      <th>8</th>\n      <td>Paraguay</td>\n      <td>5.527333</td>\n    </tr>\n    <tr>\n      <th>9</th>\n      <td>United States of America</td>\n      <td>8.579333</td>\n    </tr>\n  </tbody>\n</table>\n</div>"
     },
     "execution_count": 23,
     "metadata": {},
     "output_type": "execute_result"
    }
   ],
   "source": [
    "result = query.join(table1.set_index('Country'), on='Country' , how='left', lsuffix='_who', rsuffix='_kaggle')\n",
    "\n",
    "result = result.join(table2.set_index('Country'), on='Country' , how='left', lsuffix='_who', rsuffix='_kaggle')\n",
    "\n",
    "result"
   ],
   "metadata": {
    "collapsed": false
   }
  },
  {
   "cell_type": "code",
   "execution_count": 24,
   "outputs": [],
   "source": [],
   "metadata": {
    "collapsed": false
   }
  },
  {
   "cell_type": "code",
   "execution_count": null,
   "outputs": [],
   "source": [],
   "metadata": {
    "collapsed": false
   }
  }
 ],
 "metadata": {
  "kernelspec": {
   "display_name": "Python 3 (ipykernel)",
   "language": "python",
   "name": "python3"
  },
  "language_info": {
   "codemirror_mode": {
    "name": "ipython",
    "version": 3
   },
   "file_extension": ".py",
   "mimetype": "text/x-python",
   "name": "python",
   "nbconvert_exporter": "python",
   "pygments_lexer": "ipython3",
   "version": "3.8.13"
  },
  "vscode": {
   "interpreter": {
    "hash": "46e4a47807dea1f1b7eb10382ac3f4f68ec1e3bb8974f18e6e746c4898b6fcc3"
   }
  }
 },
 "nbformat": 4,
 "nbformat_minor": 5
}
