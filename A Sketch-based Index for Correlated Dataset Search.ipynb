{
 "cells": [
  {
   "cell_type": "markdown",
   "id": "37081b98",
   "metadata": {},
   "source": [
    "## A Sketch-based Index for Correlated Dataset Search\n",
    "\n",
    "### Motivation\n",
    "\n",
    "With the ever-rising amount of data available, recent researched explored queries where we want to enlarge our dataset by finding related data. This means finding the top-k tables which are joinable and correlated to our initial dataset. As these searches can be quite long they propose a more efficient and effective way of finding these tables than just naively querying over the whole data collection, which might take quite a bit. Their proposed idea has shown to achieve better results than other approaches regarding ranking accuracy and recall.\n",
    "In this notebook we want to offer you an understandable explanation of the proposed Solution and hope you are able to grasp all of it.\n",
    "\n",
    "#\n",
    "\n",
    "### Discovering Data with joinable keys and correlated data\n",
    "\n",
    "Steps of the algorithm:\n",
    "1.  build index of tables in DB\n",
    "    - split larger tables into 2-col-tables (cross product)\n",
    "    - creating a sketch of size n of each table in the Database\n",
    "    - build the index\n",
    "\n",
    "2. query\n",
    "    - creating a sketch of the query table\n",
    "    - find correlated and joinable tables for the query-table\n",
    "(finding set overlap between the two sketches ?)\n",
    "    "
   ]
  },
  {
   "cell_type": "markdown",
   "id": "a4604d91",
   "metadata": {},
   "source": [
    "### building the index:\n",
    "\n",
    "1. all tables with more than 2 columns are split:\n",
    "    - all numerical columns are combined with all columns containing categorical values\n",
    "    - the following steps will be executed for each table\n",
    "2. all keys are hashed and stored as tuple with their categorical value (=key) c_k\n",
    "    - <h(k), c_k>\n",
    "    - for performance reason the sketch size is applied here: only the smallest n hashed calues are kept\n",
    "3. all categorical keys (c_k) are modified according to their hashed values (h(k))\n",
    "    - if the hashed value is below or above the median of all table values, c_k is categorized in -c_k or +c_k respectively\n",
    "    - <h(k), +/-c_k>\n",
    "    - this is used to identify corrolation\n",
    "\n",
    "4. picking a specific sample (=sketch) of size n per table, using n tuples with smallest hash-value\n",
    "    - this way the samples are comparable\n"
   ]
  },
  {
   "cell_type": "code",
   "execution_count": null,
   "outputs": [],
   "source": [
    "# make sure to execute this cell\n",
    "\n",
    "from typing import List\n",
    "import heapq\n",
    "from collections import defaultdict\n",
    "import pandas as pd\n",
    "from collections import Counter\n",
    "\n",
    "from qcr import load_index, save_index, load_tables, get_kc, get_c, load_query, get_table_id, hash_function, build_index"
   ],
   "metadata": {
    "collapsed": false
   }
  },
  {
   "cell_type": "code",
   "execution_count": 3,
   "id": "8527c238",
   "metadata": {},
   "outputs": [
    {
     "data": {
      "text/html": [
       "<div>\n",
       "<style scoped>\n",
       "    .dataframe tbody tr th:only-of-type {\n",
       "        vertical-align: middle;\n",
       "    }\n",
       "\n",
       "    .dataframe tbody tr th {\n",
       "        vertical-align: top;\n",
       "    }\n",
       "\n",
       "    .dataframe thead th {\n",
       "        text-align: right;\n",
       "    }\n",
       "</style>\n",
       "<table border=\"1\" class=\"dataframe\">\n",
       "  <thead>\n",
       "    <tr style=\"text-align: right;\">\n",
       "      <th>t1</th>\n",
       "      <th>Country</th>\n",
       "      <th>Alcohol</th>\n",
       "    </tr>\n",
       "  </thead>\n",
       "  <tbody>\n",
       "    <tr>\n",
       "      <th>0</th>\n",
       "      <td>Armenia</td>\n",
       "      <td>3.702667</td>\n",
       "    </tr>\n",
       "    <tr>\n",
       "      <th>1</th>\n",
       "      <td>Colombia</td>\n",
       "      <td>4.419333</td>\n",
       "    </tr>\n",
       "    <tr>\n",
       "      <th>2</th>\n",
       "      <td>Equatorial Guinea</td>\n",
       "      <td>7.342000</td>\n",
       "    </tr>\n",
       "    <tr>\n",
       "      <th>3</th>\n",
       "      <td>Germany</td>\n",
       "      <td>11.628667</td>\n",
       "    </tr>\n",
       "    <tr>\n",
       "      <th>4</th>\n",
       "      <td>Kazakhstan</td>\n",
       "      <td>6.641333</td>\n",
       "    </tr>\n",
       "    <tr>\n",
       "      <th>5</th>\n",
       "      <td>Montenegro</td>\n",
       "      <td>2.584286</td>\n",
       "    </tr>\n",
       "    <tr>\n",
       "      <th>6</th>\n",
       "      <td>Nicaragua</td>\n",
       "      <td>3.596667</td>\n",
       "    </tr>\n",
       "    <tr>\n",
       "      <th>7</th>\n",
       "      <td>Nigeria</td>\n",
       "      <td>8.646667</td>\n",
       "    </tr>\n",
       "    <tr>\n",
       "      <th>8</th>\n",
       "      <td>Paraguay</td>\n",
       "      <td>5.527333</td>\n",
       "    </tr>\n",
       "    <tr>\n",
       "      <th>9</th>\n",
       "      <td>United States of America</td>\n",
       "      <td>8.579333</td>\n",
       "    </tr>\n",
       "  </tbody>\n",
       "</table>\n",
       "</div>"
      ],
      "text/plain": [
       "t1                   Country    Alcohol\n",
       "0                    Armenia   3.702667\n",
       "1                   Colombia   4.419333\n",
       "2          Equatorial Guinea   7.342000\n",
       "3                    Germany  11.628667\n",
       "4                 Kazakhstan   6.641333\n",
       "5                 Montenegro   2.584286\n",
       "6                  Nicaragua   3.596667\n",
       "7                    Nigeria   8.646667\n",
       "8                   Paraguay   5.527333\n",
       "9   United States of America   8.579333"
      ]
     },
     "metadata": {},
     "output_type": "display_data"
    },
    {
     "data": {
      "text/html": [
       "<div>\n",
       "<style scoped>\n",
       "    .dataframe tbody tr th:only-of-type {\n",
       "        vertical-align: middle;\n",
       "    }\n",
       "\n",
       "    .dataframe tbody tr th {\n",
       "        vertical-align: top;\n",
       "    }\n",
       "\n",
       "    .dataframe thead th {\n",
       "        text-align: right;\n",
       "    }\n",
       "</style>\n",
       "<table border=\"1\" class=\"dataframe\">\n",
       "  <thead>\n",
       "    <tr style=\"text-align: right;\">\n",
       "      <th>t2</th>\n",
       "      <th>Country</th>\n",
       "      <th>BMI</th>\n",
       "    </tr>\n",
       "  </thead>\n",
       "  <tbody>\n",
       "    <tr>\n",
       "      <th>0</th>\n",
       "      <td>Armenia</td>\n",
       "      <td>44.70625</td>\n",
       "    </tr>\n",
       "    <tr>\n",
       "      <th>1</th>\n",
       "      <td>Colombia</td>\n",
       "      <td>49.54375</td>\n",
       "    </tr>\n",
       "    <tr>\n",
       "      <th>2</th>\n",
       "      <td>Equatorial Guinea</td>\n",
       "      <td>17.85625</td>\n",
       "    </tr>\n",
       "    <tr>\n",
       "      <th>3</th>\n",
       "      <td>Germany</td>\n",
       "      <td>51.99375</td>\n",
       "    </tr>\n",
       "    <tr>\n",
       "      <th>4</th>\n",
       "      <td>Kazakhstan</td>\n",
       "      <td>45.15625</td>\n",
       "    </tr>\n",
       "    <tr>\n",
       "      <th>5</th>\n",
       "      <td>Montenegro</td>\n",
       "      <td>50.48750</td>\n",
       "    </tr>\n",
       "    <tr>\n",
       "      <th>6</th>\n",
       "      <td>Nicaragua</td>\n",
       "      <td>42.68125</td>\n",
       "    </tr>\n",
       "    <tr>\n",
       "      <th>7</th>\n",
       "      <td>Nigeria</td>\n",
       "      <td>19.75000</td>\n",
       "    </tr>\n",
       "    <tr>\n",
       "      <th>8</th>\n",
       "      <td>Paraguay</td>\n",
       "      <td>39.52500</td>\n",
       "    </tr>\n",
       "    <tr>\n",
       "      <th>9</th>\n",
       "      <td>United States of America</td>\n",
       "      <td>58.45000</td>\n",
       "    </tr>\n",
       "  </tbody>\n",
       "</table>\n",
       "</div>"
      ],
      "text/plain": [
       "t2                   Country      BMI \n",
       "0                    Armenia  44.70625\n",
       "1                   Colombia  49.54375\n",
       "2          Equatorial Guinea  17.85625\n",
       "3                    Germany  51.99375\n",
       "4                 Kazakhstan  45.15625\n",
       "5                 Montenegro  50.48750\n",
       "6                  Nicaragua  42.68125\n",
       "7                    Nigeria  19.75000\n",
       "8                   Paraguay  39.52500\n",
       "9   United States of America  58.45000"
      ]
     },
     "metadata": {},
     "output_type": "display_data"
    },
    {
     "data": {
      "text/html": [
       "<div>\n",
       "<style scoped>\n",
       "    .dataframe tbody tr th:only-of-type {\n",
       "        vertical-align: middle;\n",
       "    }\n",
       "\n",
       "    .dataframe tbody tr th {\n",
       "        vertical-align: top;\n",
       "    }\n",
       "\n",
       "    .dataframe thead th {\n",
       "        text-align: right;\n",
       "    }\n",
       "</style>\n",
       "<table border=\"1\" class=\"dataframe\">\n",
       "  <thead>\n",
       "    <tr style=\"text-align: right;\">\n",
       "      <th>t3</th>\n",
       "      <th>Country</th>\n",
       "      <th>Area (sq. mi.)</th>\n",
       "    </tr>\n",
       "  </thead>\n",
       "  <tbody>\n",
       "    <tr>\n",
       "      <th>0</th>\n",
       "      <td>Armenia</td>\n",
       "      <td>29800.0</td>\n",
       "    </tr>\n",
       "    <tr>\n",
       "      <th>1</th>\n",
       "      <td>Colombia</td>\n",
       "      <td>1138910.0</td>\n",
       "    </tr>\n",
       "    <tr>\n",
       "      <th>2</th>\n",
       "      <td>Equatorial Guinea</td>\n",
       "      <td>28051.0</td>\n",
       "    </tr>\n",
       "    <tr>\n",
       "      <th>3</th>\n",
       "      <td>Germany</td>\n",
       "      <td>357021.0</td>\n",
       "    </tr>\n",
       "    <tr>\n",
       "      <th>4</th>\n",
       "      <td>Kazakhstan</td>\n",
       "      <td>2717300.0</td>\n",
       "    </tr>\n",
       "    <tr>\n",
       "      <th>5</th>\n",
       "      <td>Montenegro</td>\n",
       "      <td>NaN</td>\n",
       "    </tr>\n",
       "    <tr>\n",
       "      <th>6</th>\n",
       "      <td>Nicaragua</td>\n",
       "      <td>129494.0</td>\n",
       "    </tr>\n",
       "    <tr>\n",
       "      <th>7</th>\n",
       "      <td>Nigeria</td>\n",
       "      <td>923768.0</td>\n",
       "    </tr>\n",
       "    <tr>\n",
       "      <th>8</th>\n",
       "      <td>Paraguay</td>\n",
       "      <td>406750.0</td>\n",
       "    </tr>\n",
       "    <tr>\n",
       "      <th>9</th>\n",
       "      <td>United States of America</td>\n",
       "      <td>NaN</td>\n",
       "    </tr>\n",
       "  </tbody>\n",
       "</table>\n",
       "</div>"
      ],
      "text/plain": [
       "t3                   Country  Area (sq. mi.)\n",
       "0                    Armenia         29800.0\n",
       "1                   Colombia       1138910.0\n",
       "2          Equatorial Guinea         28051.0\n",
       "3                    Germany        357021.0\n",
       "4                 Kazakhstan       2717300.0\n",
       "5                 Montenegro             NaN\n",
       "6                  Nicaragua        129494.0\n",
       "7                    Nigeria        923768.0\n",
       "8                   Paraguay        406750.0\n",
       "9   United States of America             NaN"
      ]
     },
     "metadata": {},
     "output_type": "display_data"
    }
   ],
   "source": [
    "# part 1: building the index\n",
    "\n",
    "## The following Notebook will walk you through the steps using the following sample data.\n",
    "## The tables are used to create our index.\n",
    "\n",
    "\n",
    "t1 = pd.read_csv('data/t1.csv')\n",
    "t1.columns.name = 't1'\n",
    "display(t1)\n",
    "\n",
    "t2 = pd.read_csv('data/t2.csv')\n",
    "t2.columns.name = 't2'\n",
    "display(t2)\n",
    "\n",
    "t3 = pd.read_csv('data/t3.csv')\n",
    "t3.columns.name = 't3'\n",
    "display(t3)"
   ]
  },
  {
   "cell_type": "code",
   "execution_count": 4,
   "id": "419dc6ea",
   "metadata": {},
   "outputs": [
    {
     "name": "stdout",
     "output_type": "stream",
     "text": [
      "t1                   Country    Alcohol\n",
      "0                    Armenia   3.702667\n",
      "1                   Colombia   4.419333\n",
      "2          Equatorial Guinea   7.342000\n",
      "3                    Germany  11.628667\n",
      "4                 Kazakhstan   6.641333\n",
      "5                 Montenegro   2.584286\n",
      "6                  Nicaragua   3.596667\n",
      "7                    Nigeria   8.646667\n",
      "8                   Paraguay   5.527333\n",
      "9   United States of America   8.579333\n"
     ]
    }
   ],
   "source": [
    "# 0. initialize index\n",
    "\n",
    "inverted_index = defaultdict(set)\n",
    "\n",
    "## sample run  with t1: showing alcohol consuption per country\n",
    "\n",
    "table = t1\n",
    "\n",
    "print(table)"
   ]
  },
  {
   "cell_type": "code",
   "execution_count": 5,
   "id": "bf3a9c59",
   "metadata": {},
   "outputs": [
    {
     "name": "stdout",
     "output_type": "stream",
     "text": [
      "cat_col:\n",
      "['Armenia', 'Colombia', 'Equatorial Guinea', 'Germany', 'Kazakhstan', 'Montenegro', 'Nicaragua', 'Nigeria', 'Paraguay', 'United States of America']\n",
      "num_col:\n",
      "[3.7026666666666666, 4.419333333333333, 7.342, 11.628666666666668, 6.641333333333334, 2.584285714285714, 3.5966666666666667, 8.646666666666667, 5.527333333333333, 8.579333333333333]\n"
     ]
    },
    {
     "data": {
      "text/html": [
       "<div>\n",
       "<style scoped>\n",
       "    .dataframe tbody tr th:only-of-type {\n",
       "        vertical-align: middle;\n",
       "    }\n",
       "\n",
       "    .dataframe tbody tr th {\n",
       "        vertical-align: top;\n",
       "    }\n",
       "\n",
       "    .dataframe thead th {\n",
       "        text-align: right;\n",
       "    }\n",
       "</style>\n",
       "<table border=\"1\" class=\"dataframe\">\n",
       "  <thead>\n",
       "    <tr style=\"text-align: right;\">\n",
       "      <th>t1</th>\n",
       "      <th>Country</th>\n",
       "      <th>Alcohol</th>\n",
       "    </tr>\n",
       "  </thead>\n",
       "  <tbody>\n",
       "    <tr>\n",
       "      <th>0</th>\n",
       "      <td>Armenia</td>\n",
       "      <td>3.702667</td>\n",
       "    </tr>\n",
       "    <tr>\n",
       "      <th>1</th>\n",
       "      <td>Colombia</td>\n",
       "      <td>4.419333</td>\n",
       "    </tr>\n",
       "    <tr>\n",
       "      <th>2</th>\n",
       "      <td>Equatorial Guinea</td>\n",
       "      <td>7.342000</td>\n",
       "    </tr>\n",
       "    <tr>\n",
       "      <th>3</th>\n",
       "      <td>Germany</td>\n",
       "      <td>11.628667</td>\n",
       "    </tr>\n",
       "    <tr>\n",
       "      <th>4</th>\n",
       "      <td>Kazakhstan</td>\n",
       "      <td>6.641333</td>\n",
       "    </tr>\n",
       "    <tr>\n",
       "      <th>5</th>\n",
       "      <td>Montenegro</td>\n",
       "      <td>2.584286</td>\n",
       "    </tr>\n",
       "    <tr>\n",
       "      <th>6</th>\n",
       "      <td>Nicaragua</td>\n",
       "      <td>3.596667</td>\n",
       "    </tr>\n",
       "    <tr>\n",
       "      <th>7</th>\n",
       "      <td>Nigeria</td>\n",
       "      <td>8.646667</td>\n",
       "    </tr>\n",
       "    <tr>\n",
       "      <th>8</th>\n",
       "      <td>Paraguay</td>\n",
       "      <td>5.527333</td>\n",
       "    </tr>\n",
       "    <tr>\n",
       "      <th>9</th>\n",
       "      <td>United States of America</td>\n",
       "      <td>8.579333</td>\n",
       "    </tr>\n",
       "  </tbody>\n",
       "</table>\n",
       "</div>"
      ],
      "text/plain": [
       "t1                   Country    Alcohol\n",
       "0                    Armenia   3.702667\n",
       "1                   Colombia   4.419333\n",
       "2          Equatorial Guinea   7.342000\n",
       "3                    Germany  11.628667\n",
       "4                 Kazakhstan   6.641333\n",
       "5                 Montenegro   2.584286\n",
       "6                  Nicaragua   3.596667\n",
       "7                    Nigeria   8.646667\n",
       "8                   Paraguay   5.527333\n",
       "9   United States of America   8.579333"
      ]
     },
     "execution_count": 5,
     "metadata": {},
     "output_type": "execute_result"
    }
   ],
   "source": [
    "# 1. extracting numerical column (feature) and categorical column (key)\n",
    "\n",
    "cat_col = get_kc(table)\n",
    "num_col = get_c(table)\n",
    "\n",
    "print(\"cat_col:\")\n",
    "print(cat_col)\n",
    "print(\"num_col:\")\n",
    "print(num_col)\n",
    "\n",
    "# (if a table consists of more than 2 cols, all numerical and categorical columns are combined into 2-col-tables (cross product). here, we simply keep using our original table\n",
    "\n",
    "table"
   ]
  },
  {
   "cell_type": "code",
   "execution_count": 6,
   "id": "ff6ecba6",
   "metadata": {},
   "outputs": [
    {
     "name": "stdout",
     "output_type": "stream",
     "text": [
      "t1                   Country    Alcohol  hashed_values\n",
      "0                    Armenia   3.702667   3.619010e-40\n",
      "1                   Colombia   4.419333   3.619010e-40\n",
      "2          Equatorial Guinea   7.342000   3.619010e-40\n",
      "3                    Germany  11.628667   3.619010e-40\n",
      "4                 Kazakhstan   6.641333   3.619010e-40\n",
      "5                 Montenegro   2.584286   3.619010e-40\n",
      "6                  Nicaragua   3.596667   3.619010e-40\n",
      "7                    Nigeria   8.646667   3.619010e-40\n",
      "8                   Paraguay   5.527333   3.619010e-40\n",
      "9   United States of America   8.579333   3.619010e-40\n",
      "\n",
      "sketch of t1:\n",
      "t1  hashed_values            Country\n",
      "0    3.619010e-40            Armenia\n",
      "1    3.619010e-40           Colombia\n",
      "2    3.619010e-40  Equatorial Guinea\n"
     ]
    }
   ],
   "source": [
    "# 2. create sketch by hashing numerical values and picking n smallest.\n",
    "\n",
    "table['hashed_values'] = hash_function(table['Alcohol'])\n",
    "print(table)\n",
    "hashed_table = table[['hashed_values', 'Country']]\n",
    "#hashed_table = table[['Alcohol', 'Country']]\n",
    "\n",
    "# now we only keep n rows with the smallest hashed values. those rows form the sketch for this table:\n",
    "\n",
    "sketch = hashed_table.nsmallest(3, 'hashed_values')\n",
    "#sketch = hashed_table.nsmallest(3, 'Alcohol')\n",
    "print('\\nsketch of t1:')\n",
    "print(sketch)\n"
   ]
  },
  {
   "cell_type": "code",
   "execution_count": 7,
   "id": "1f5b0479",
   "metadata": {},
   "outputs": [
    {
     "name": "stdout",
     "output_type": "stream",
     "text": [
      "t1  hashed_values            Country         labeled_keys\n",
      "0    3.619010e-40            Armenia            Armenia-1\n",
      "1    3.619010e-40           Colombia           Colombia-1\n",
      "2    3.619010e-40  Equatorial Guinea  Equatorial Guinea-1\n"
     ]
    }
   ],
   "source": [
    "# 3. categorize keys by value and use as new key\n",
    "\n",
    "# first we calculate the median of all values of this tables numeric column\n",
    "mue = sketch['hashed_values'].mean()\n",
    "\n",
    "\n",
    "# then label key by > median (+key) or < median (-key)\n",
    "#NOT# hash categorized term\n",
    "sketch['labeled_keys'] = [f'{key}{\"+1\" if value > mue else \"-1\"}' for value, key in sketch.values]\n",
    "\n",
    "print(sketch)"
   ]
  },
  {
   "cell_type": "code",
   "execution_count": 8,
   "id": "e02f0139",
   "metadata": {},
   "outputs": [
    {
     "name": "stdout",
     "output_type": "stream",
     "text": [
      "defaultdict(<class 'set'>, {'Armenia-1': {'t1'}, 'Colombia-1': {'t1'}, 'Equatorial Guinea-1': {'t1'}})\n"
     ]
    }
   ],
   "source": [
    "# 4. store hashed and categorized terms of sketch in inverted index\n",
    "table_id = 't1'\n",
    "\n",
    "for term in sketch['labeled_keys']:\n",
    "    inverted_index[term].add(table_id)\n",
    "\n",
    "\n",
    "print(inverted_index)\n"
   ]
  },
  {
   "cell_type": "code",
   "execution_count": 9,
   "id": "68d99b1f",
   "metadata": {},
   "outputs": [
    {
     "name": "stdout",
     "output_type": "stream",
     "text": [
      "t1\n",
      "t2\n",
      "t3\n",
      "defaultdict(<class 'set'>, {'Armenia-1': {'t1', 't3'}, 'Nicaragua-1': {'t1', 't3'}, 'Equatorial Guinea+1': {'t1'}, 'United States of America+1': {'t1', 't2'}, 'Colombia-1': {'t1', 't3'}, 'Paraguay-1': {'t1', 't3', 't2'}, 'Montenegro-1': {'t1', 't3'}, 'Kazakhstan+1': {'t1', 't2'}, 'Germany+1': {'t1', 't2'}, 'Nigeria+1': {'t1'}, 'Armenia+1': {'t2'}, 'Nicaragua+1': {'t2'}, 'Equatorial Guinea-1': {'t2', 't3'}, 'Colombia+1': {'t2'}, 'Montenegro+1': {'t2'}, 'Nigeria-1': {'t2', 't3'}, 'United States of America-1': {'t3'}, 'Kazakhstan-1': {'t3'}, 'Germany-1': {'t3'}})\n"
     ]
    }
   ],
   "source": [
    "### the above is an example of one table, the full code can be found in qcr.py\n",
    "\n",
    "# now we also import all 3 tables into one index\n",
    "build_index([t1, t2, t3])\n",
    "inverted_index = load_index()\n",
    "print(inverted_index)"
   ]
  },
  {
   "cell_type": "code",
   "execution_count": 10,
   "id": "7a930670",
   "metadata": {
    "collapsed": false
   },
   "outputs": [],
   "source": [
    "# part 1 is completed, the index is created."
   ]
  },
  {
   "cell_type": "code",
   "execution_count": 11,
   "id": "d33c9941",
   "metadata": {},
   "outputs": [],
   "source": [
    "# now part 2, querying on the inverted index"
   ]
  },
  {
   "cell_type": "code",
   "execution_count": 12,
   "id": "a40af0a3",
   "metadata": {},
   "outputs": [
    {
     "ename": "NameError",
     "evalue": "name 'qcr' is not defined",
     "output_type": "error",
     "traceback": [
      "\u001B[1;31m---------------------------------------------------------------------------\u001B[0m",
      "\u001B[1;31mNameError\u001B[0m                                 Traceback (most recent call last)",
      "Input \u001B[1;32mIn [12]\u001B[0m, in \u001B[0;36m<cell line: 9>\u001B[1;34m()\u001B[0m\n\u001B[0;32m      2\u001B[0m q \u001B[38;5;241m=\u001B[39m pd\u001B[38;5;241m.\u001B[39mDataFrame([[],[]])\n\u001B[0;32m      3\u001B[0m \u001B[38;5;66;03m# land # lebenserwartung #\u001B[39;00m\n\u001B[0;32m      4\u001B[0m \u001B[38;5;66;03m# ...\u001B[39;00m\n\u001B[0;32m      5\u001B[0m \n\u001B[0;32m      6\u001B[0m \n\u001B[0;32m      7\u001B[0m \u001B[38;5;66;03m# as above:\u001B[39;00m\n\u001B[0;32m      8\u001B[0m \u001B[38;5;66;03m# 1. build sketch of query table\u001B[39;00m\n\u001B[1;32m----> 9\u001B[0m sketch \u001B[38;5;241m=\u001B[39m \u001B[43mqcr\u001B[49m\u001B[38;5;241m.\u001B[39mcreate_sketch(q[\u001B[38;5;241m0\u001B[39m], q[\u001B[38;5;241m1\u001B[39m], hash_function(), n\u001B[38;5;241m=\u001B[39m\u001B[38;5;241m5\u001B[39m)\n\u001B[0;32m     10\u001B[0m \u001B[38;5;66;03m# 2. generate terms\u001B[39;00m\n\u001B[0;32m     11\u001B[0m terms \u001B[38;5;241m=\u001B[39m qcr\u001B[38;5;241m.\u001B[39mgenerate_term_keys(sketch)\n",
      "\u001B[1;31mNameError\u001B[0m: name 'qcr' is not defined"
     ]
    }
   ],
   "source": [
    "# query table: (key & taget)\n",
    "q = pd.DataFrame([[],[]])\n",
    "# land # lebenserwartung #\n",
    "# ...\n",
    "\n",
    "\n",
    "# as above:\n",
    "# 1. build sketch of query table\n",
    "sketch = qcr.create_sketch(q[0], q[1], hash_function(), n=5)\n",
    "# 2. generate terms\n",
    "terms = qcr.generate_term_keys(sketch)\n",
    "\n",
    "# 3.  inverse values of sketch\n",
    "# for negative correlation\n",
    "inverse_terms = generate_term_keys(\n",
    "    list(map((lambda key_value: (key_value[0], -key_value[1])), sketch)), h\n",
    "    ) # same function as above, input is inverted\n",
    "\n",
    "\n"
   ]
  },
  {
   "cell_type": "code",
   "execution_count": null,
   "id": "b3eb81da",
   "metadata": {},
   "outputs": [],
   "source": [
    "# execute query\n",
    "# 1. load idex\n",
    "inverted_index = load_index()\n",
    "\n",
    "# count how many tables match the sketches terms\n",
    "result = Counter()\n",
    "result.update(\n",
    "    \"+:\" + table_id for term in terms for table_id in inverted_index[term]\n",
    ")\n",
    "result.update(\n",
    "    \"-:\" + table_id for term in inverse_terms for table_id in inverted_index[term]\n",
    ")\n",
    "\n",
    "sketch = result.most_common(10)"
   ]
  },
  {
   "cell_type": "code",
   "execution_count": null,
   "id": "1051d1b0",
   "metadata": {},
   "outputs": [],
   "source": [
    "#4. a _mirror image_ is of each sketch is build\n",
    "#    - sign of value and key is inverted\n",
    "#    - this is used to identify inversed correlation"
   ]
  },
  {
   "cell_type": "code",
   "execution_count": null,
   "id": "7a1f1d9b",
   "metadata": {},
   "outputs": [],
   "source": []
  },
  {
   "cell_type": "code",
   "execution_count": null,
   "id": "50c1c224",
   "metadata": {},
   "outputs": [],
   "source": []
  },
  {
   "cell_type": "code",
   "execution_count": null,
   "id": "41ec39d7",
   "metadata": {},
   "outputs": [],
   "source": [
    "### Query dataset (Q)\n",
    "\n",
    "df_Q = pd.DataFrame({'movies':['A','B','C','D','E'], \n",
    "                     'budget in mil €':[100, 200, 500, 300, 300],\n",
    "                     'stars':[2,3,4,4.8,3]})\n",
    "display(df_Q)\n",
    "\n",
    "print()\n",
    "print('hashed df:')\n",
    "h_k = df_Q['budget in mil €'].apply(lambda k: hash(k))\n",
    "df_Q['budget in mil €'] = h_k\n",
    "\n",
    "h_k = df_Q['stars'].apply(lambda k: hash(k))\n",
    "df_Q['stars'] = h_k\n",
    "\n",
    "display(df_Q)"
   ]
  },
  {
   "cell_type": "code",
   "execution_count": null,
   "id": "1ddf44de",
   "metadata": {},
   "outputs": [],
   "source": [
    "### example of a corrolated and joinable dataset from the corpus (c):\n",
    "\n",
    "df_c = pd.DataFrame({'movies':['C','D','E','F','G',], \n",
    "                     'budget per staff':[1.2, 3.5, 8, 10, 4]})\n",
    "display(df_c)\n",
    "\n",
    "h_k = df_c['budget per staff'].apply(lambda k: hash(k))\n",
    "df_c['budget per staff'] = h_k\n",
    "display(df_c)\n",
    "#df = pd.DataFrame({'movies':['C','D','E','F','G',], 'sick days':[500, 50, 150, 175, 100]})\n",
    "#df"
   ]
  },
  {
   "cell_type": "code",
   "execution_count": null,
   "id": "2b8b05f7",
   "metadata": {},
   "outputs": [],
   "source": [
    "# choose sketch for each table"
   ]
  },
  {
   "cell_type": "markdown",
   "id": "41f272d0",
   "metadata": {},
   "source": [
    "### correlation:\n",
    "\n"
   ]
  },
  {
   "cell_type": "code",
   "execution_count": null,
   "id": "6eb032ab",
   "metadata": {},
   "outputs": [],
   "source": [
    "# find corrolated sketches and joinable sketches"
   ]
  },
  {
   "cell_type": "markdown",
   "id": "6c12d86c",
   "metadata": {},
   "source": [
    "\n",
    "### joinability:"
   ]
  },
  {
   "cell_type": "code",
   "execution_count": null,
   "id": "2b0b9443",
   "metadata": {},
   "outputs": [],
   "source": []
  },
  {
   "cell_type": "code",
   "execution_count": null,
   "id": "90429845",
   "metadata": {},
   "outputs": [],
   "source": [
    "#############################################\n",
    "# building the index                        #\n",
    "#                        overview           #\n",
    "#############################################\n",
    "def build_index() -> None:\n",
    "    # 0. load table and initialize index\n",
    "    inverted_index = defaultdict(set)\n",
    "    tables = load_tables()\n",
    "\n",
    "    # create sketch for every table and add it to the intex\n",
    "    for table in tables:\n",
    "\n",
    "        # 1. build 2-column-tables\n",
    "        KC = get_kc(table)\n",
    "        C = get_c(table)\n",
    "\n",
    "        # create hash functions\n",
    "        h, hu = create_hash_functions(KC, C)\n",
    "\n",
    "        # 2. hash numerical values\n",
    "        sketch = create_sketch(KC, C, h, hu)\n",
    "\n",
    "        # 3. categorize keys by value\n",
    "        terms = generate_term_keys(sketch, h)\n",
    "\n",
    "\n",
    "        # 4. store terms // sketch in inverted index ???\n",
    "        table_id = get_table_id(table)\n",
    "        add_to_inverted_index(inverted_index, terms, table_id)\n",
    "\n",
    "\n",
    "    save_index(inverted_index)"
   ]
  },
  {
   "cell_type": "code",
   "execution_count": null,
   "id": "96e2b8c7",
   "metadata": {},
   "outputs": [],
   "source": []
  },
  {
   "cell_type": "code",
   "execution_count": null,
   "id": "71f03174",
   "metadata": {},
   "outputs": [],
   "source": [
    "def find_tables(query: pd.DataFrame) -> List[str]:\n",
    "    # 1. build 2-column-tables\n",
    "    KC = get_kc(query)\n",
    "    C = get_c(query)\n",
    "    \n",
    "    # create hash functions\n",
    "    h, hu = create_hash_functions()  # both hash functions are used to create the sketch (hu(h(k)))\n",
    "    \n",
    "    # hash numerical values\n",
    "    sketch = create_sketch(KC, C, h, hu)\n",
    "    \n",
    "    # categorize keys by value\n",
    "    terms = generate_term_keys(sketch, h)\n",
    "    \n",
    "    # mirror image\n",
    "    anti_terms = tk(\n",
    "        list(map((lambda key_value: (key_value[0], -key_value[1])), sketch)), h\n",
    "        )\n",
    "    \n",
    "    # pick smallest n terms for specific sample\n",
    "    inverted_index = load_index()\n",
    "    result = Counter()\n",
    "    result.update(\n",
    "        \"+:\" + table_id for term in terms for table_id in inverted_index[term]\n",
    "    )\n",
    "    result.update(\n",
    "        \"-:\" + table_id for term in anti_terms for table_id in inverted_index[term]\n",
    "    )\n",
    "    \n",
    "    sketch = result.most_common(10)\n",
    "    return sketch"
   ]
  },
  {
   "cell_type": "code",
   "execution_count": null,
   "id": "9caaf837",
   "metadata": {},
   "outputs": [],
   "source": [
    "# mirror image of tuples (same function as above, mirrored input)\n",
    "\n",
    "mirror_image = list(map((lambda key_value: (key_value[0], -key_value[1])), sketch)), h\n",
    "\n",
    "anti_terms = generate_term_keys( mirror_image )"
   ]
  },
  {
   "cell_type": "code",
   "execution_count": null,
   "id": "eadf5c74",
   "metadata": {},
   "outputs": [],
   "source": [
    "# pick smallest n terms for specific sample\n",
    "    inverted_index = load_index()\n",
    "    result = Counter()\n",
    "    result.update(\n",
    "        \"+:\" + table_id for term in terms for table_id in inverted_index[term]\n",
    "    )\n",
    "    result.update(\n",
    "        \"-:\" + table_id for term in anti_terms for table_id in inverted_index[term]\n",
    "    )\n",
    "    \n",
    "    sketch = result.most_common(10)\n",
    "    return sketch"
   ]
  },
  {
   "cell_type": "code",
   "execution_count": null,
   "id": "8d73ce22",
   "metadata": {},
   "outputs": [],
   "source": []
  },
  {
   "cell_type": "code",
   "execution_count": null,
   "id": "eda640fd",
   "metadata": {},
   "outputs": [],
   "source": []
  },
  {
   "cell_type": "code",
   "execution_count": null,
   "id": "2216e0f4",
   "metadata": {},
   "outputs": [],
   "source": []
  },
  {
   "cell_type": "code",
   "execution_count": null,
   "id": "b0e5d4a1",
   "metadata": {},
   "outputs": [],
   "source": []
  },
  {
   "cell_type": "code",
   "execution_count": null,
   "id": "ccf5f50c",
   "metadata": {},
   "outputs": [],
   "source": [
    "# 2. hash numerical values\n",
    "\n",
    "def create_sketch(\n",
    "    KC: List[str],                  C: List[numeric],\n",
    "    h: Callable[[str], int],        hu: Callable[[int], int],       n=100,\n",
    "    ) -> List[Tuple[str, numeric]]:\n",
    "    \n",
    "    sketch = heapq.nsmallest(n, zip(KC, C), key=lambda x: hu(h(x[0])))\n",
    "    ##       heapq.nsmallest(n, iterable  , key=funktion)\n",
    "    ##       n = return n smalllest results\n",
    "    ##       iterable = perform function on this data\n",
    "    ##       key = use this function, pick n smallest results and put on sorted heap (heapque)\n",
    "    \n",
    "    return sketch\n",
    "\n",
    "sketch = create_sketch(KC, C, h, hu)\n",
    "\n",
    "print(sketch)"
   ]
  },
  {
   "cell_type": "code",
   "execution_count": null,
   "id": "384a4636",
   "metadata": {},
   "outputs": [],
   "source": [
    "# 3. categorize keys by value and use as new key\n",
    "\n",
    "def generate_term_keys(sketch: List[Tuple[str, numeric]], h: Callable[[str], int]) -> List[int]:\n",
    "\n",
    "    # mue = median of all values of this tables numeric column\n",
    "    mue = sum([value for key, value in sketch]) / len(sketch)\n",
    "    \n",
    "    # categorize key by > median (+key) or < median (-key)\n",
    "    # hash categorized term\n",
    "    categorized_key = [h(f'{h(key)}{\"+1\" if value > mue else \"-1\"}') for key, value in sketch]\n",
    "    \n",
    "    return categorized_key\n",
    "\n",
    "\n",
    "hashed_terms = generate_term_keys(sketch, h)\n",
    "\n",
    "print(hashed_terms)"
   ]
  },
  {
   "cell_type": "code",
   "execution_count": null,
   "id": "e2241b4f",
   "metadata": {},
   "outputs": [],
   "source": [
    "## toy example to vizualize steps\n",
    "\n",
    "# TODO"
   ]
  },
  {
   "cell_type": "code",
   "execution_count": null,
   "id": "db60dd0e",
   "metadata": {},
   "outputs": [],
   "source": [
    "# 4. store hashed and categorized terms  (not sketch?)  in inverted index ???\n",
    "\n",
    "def add_to_inverted_index( inverted_index: DefaultDict[int, Set[str]],\n",
    "                           hashed_terms: List[int], \n",
    "                           table_id: str                                  ) -> None:\n",
    "\n",
    "    for term in hashed_terms:\n",
    "        inverted_index[term].add(table_id)\n",
    "\n",
    "table_id = get_table_id(table)\n",
    "add_to_inverted_index(inverted_index, hashed_terms, table_id)\n",
    "\n",
    "print(inverted_index)\n",
    "# 130988216787560463481282035084846401787: {'A_0'}\n",
    "# hashed categorized key/term"
   ]
  },
  {
   "cell_type": "code",
   "execution_count": null,
   "id": "bf160498",
   "metadata": {},
   "outputs": [],
   "source": []
  },
  {
   "cell_type": "code",
   "execution_count": null,
   "id": "dd255a07",
   "metadata": {},
   "outputs": [],
   "source": []
  },
  {
   "cell_type": "code",
   "execution_count": null,
   "id": "f4494406",
   "metadata": {
    "scrolled": false
   },
   "outputs": [],
   "source": [
    "### Query dataset (Q)\n",
    "\n",
    "df_Q = pd.DataFrame({'movies':['A','B','C','D','E'], \n",
    "                     'budget in mil €':[100, 200, 500, 300, 300],\n",
    "                     'stars':[2,3,4,4.8,3]})\n",
    "display(df_Q)\n",
    "\n",
    "print()\n",
    "print('hashed df:')\n",
    "h_k = df_Q['budget in mil €'].apply(lambda k: hash(k))\n",
    "df_Q['budget in mil €'] = h_k\n",
    "\n",
    "h_k = df_Q['stars'].apply(lambda k: hash(k))\n",
    "df_Q['stars'] = h_k\n",
    "\n",
    "display(df_Q)"
   ]
  },
  {
   "cell_type": "code",
   "execution_count": null,
   "id": "60561cf0",
   "metadata": {},
   "outputs": [],
   "source": [
    "### example of a corrolated and joinable dataset from the corpus (c):\n",
    "\n",
    "df_c = pd.DataFrame({'movies':['C','D','E','F','G',], \n",
    "                     'budget per staff':[1.2, 3.5, 8, 10, 4]})\n",
    "display(df_c)\n",
    "\n",
    "h_k = df_c['budget per staff'].apply(lambda k: hash(k))\n",
    "df_c['budget per staff'] = h_k\n",
    "display(df_c)\n",
    "#df = pd.DataFrame({'movies':['C','D','E','F','G',], 'sick days':[500, 50, 150, 175, 100]})\n",
    "#df"
   ]
  },
  {
   "cell_type": "code",
   "execution_count": null,
   "id": "93cf7c3e",
   "metadata": {},
   "outputs": [],
   "source": [
    "# choose sketch for each table"
   ]
  },
  {
   "cell_type": "markdown",
   "id": "8ce2ca36",
   "metadata": {},
   "source": [
    "### correlation:\n",
    "\n"
   ]
  },
  {
   "cell_type": "code",
   "execution_count": null,
   "id": "4ca2ec8a",
   "metadata": {},
   "outputs": [],
   "source": [
    "# find corrolated sketches and joinable sketches"
   ]
  },
  {
   "cell_type": "markdown",
   "id": "35df8b64",
   "metadata": {},
   "source": [
    "\n",
    "### joinability:"
   ]
  },
  {
   "cell_type": "code",
   "execution_count": null,
   "id": "b9149a46",
   "metadata": {},
   "outputs": [],
   "source": []
  },
  {
   "cell_type": "code",
   "execution_count": null,
   "id": "9651bfc4",
   "metadata": {},
   "outputs": [],
   "source": []
  },
  {
   "cell_type": "code",
   "execution_count": null,
   "id": "60cc3bab",
   "metadata": {},
   "outputs": [],
   "source": []
  },
  {
   "cell_type": "code",
   "execution_count": null,
   "id": "01568177",
   "metadata": {},
   "outputs": [],
   "source": [
    "def find_tables(query: pd.DataFrame) -> List[str]:\n",
    "    # 1. build 2-column-tables\n",
    "    KC = get_kc(query)\n",
    "    C = get_c(query)\n",
    "    \n",
    "    # create hash functions\n",
    "    h, hu = create_hash_functions()  # both hash functions are used to create the sketch (hu(h(k)))\n",
    "    \n",
    "    # hash numerical values\n",
    "    sketch = create_sketch(KC, C, h, hu)\n",
    "    \n",
    "    # categorize keys by value\n",
    "    terms = generate_term_keys(sketch, h)\n",
    "    \n",
    "    # mirror image\n",
    "    anti_terms = tk(\n",
    "        list(map((lambda key_value: (key_value[0], -key_value[1])), sketch)), h\n",
    "        )\n",
    "    \n",
    "    # pick smallest n terms for specific sample\n",
    "    inverted_index = load_index()\n",
    "    result = Counter()\n",
    "    result.update(\n",
    "        \"+:\" + table_id for term in terms for table_id in inverted_index[term]\n",
    "    )\n",
    "    result.update(\n",
    "        \"-:\" + table_id for term in anti_terms for table_id in inverted_index[term]\n",
    "    )\n",
    "    \n",
    "    sketch = result.most_common(10)\n",
    "    return sketch"
   ]
  },
  {
   "cell_type": "code",
   "execution_count": null,
   "id": "c92e69e7",
   "metadata": {},
   "outputs": [],
   "source": [
    "# mirror image of tuples (same function as above, mirrored input)\n",
    "\n",
    "mirror_image = list(map((lambda key_value: (key_value[0], -key_value[1])), sketch)), h\n",
    "\n",
    "anti_terms = generate_term_keys( mirror_image )"
   ]
  },
  {
   "cell_type": "code",
   "execution_count": null,
   "id": "cc052295",
   "metadata": {},
   "outputs": [],
   "source": [
    "# pick smallest n terms for specific sample\n",
    "    inverted_index = load_index()\n",
    "    result = Counter()\n",
    "    result.update(\n",
    "        \"+:\" + table_id for term in terms for table_id in inverted_index[term]\n",
    "    )\n",
    "    result.update(\n",
    "        \"-:\" + table_id for term in anti_terms for table_id in inverted_index[term]\n",
    "    )\n",
    "    \n",
    "    sketch = result.most_common(10)\n",
    "    return sketch"
   ]
  },
  {
   "cell_type": "code",
   "execution_count": null,
   "id": "45893cc9",
   "metadata": {},
   "outputs": [],
   "source": []
  },
  {
   "cell_type": "code",
   "execution_count": null,
   "id": "9067c7f1",
   "metadata": {},
   "outputs": [],
   "source": [
    "import pandas as pd\n",
    "df = pd.read_csv('data/Life_Expectancy_Data.csv', sep=';')\n",
    "df['Country'] = df['Country'].str.strip()"
   ]
  },
  {
   "cell_type": "code",
   "execution_count": null,
   "id": "f78d01fe",
   "metadata": {},
   "outputs": [],
   "source": [
    "df = df.groupby(['Country']).mean().reset_index(level=0)\n",
    "df_small = df[['Country','Life expectancy ', 'Alcohol', ' BMI ']]\n",
    "df_small"
   ]
  },
  {
   "cell_type": "code",
   "execution_count": null,
   "id": "d5bfb474",
   "metadata": {
    "collapsed": false
   },
   "outputs": [],
   "source": [
    "df_smaller = df_small.loc[df_small['Country'].isin(['Nigeria', 'Equatorial Guinea', 'Kazakhstan', 'Paraguay', 'Colombia', 'Armenia', 'Nicaragua', 'Montenegro', 'Maledives', 'Quatar', 'Germany', 'United States of America'])]\n",
    "q = df_smaller[['Country', 'Life expectancy ']]\n",
    "c1 = df_smaller[['Country', 'Alcohol']]\n",
    "c2 = df_smaller[['Country', ' BMI ']]\n",
    "df_smaller\n"
   ]
  },
  {
   "cell_type": "code",
   "execution_count": null,
   "id": "16b183df",
   "metadata": {
    "collapsed": false
   },
   "outputs": [],
   "source": [
    "df2 = pd.read_csv('data/countries_of_the_world.csv')\n",
    "display(df2)\n",
    "#display(df2['Country'])\n",
    "#display(df_small['Country'])\n",
    "#dfx = df2[['Country']].join(df_small[['Country']], lsuffix='_who', rsuffix='_kaggle')\n",
    "#dfx\n",
    "#df_merge = pd.merge(df_small, df2, on='Country',  how='left')\n",
    "#df_merge\n",
    "display(df2.dtypes)\n",
    "display(df_small.dtypes)\n",
    "df_join = df_small.join(df2, on='Country',  how='left', lsuffix='_who', rsuffix='_kaggle')\n",
    "df_join"
   ]
  },
  {
   "cell_type": "code",
   "execution_count": null,
   "id": "84f4cedc",
   "metadata": {
    "collapsed": false
   },
   "outputs": [],
   "source": []
  },
  {
   "cell_type": "code",
   "execution_count": null,
   "id": "7e8f4b5d",
   "metadata": {
    "collapsed": false
   },
   "outputs": [],
   "source": [
    "import pandas as pd\n",
    "df = pd.read_csv('data/Life_Expectancy_Data.csv', sep=';')\n",
    "df['Country'] = df['Country'].str.strip()\n",
    "df = df.groupby(['Country']).mean().reset_index(level=0)\n",
    "\n",
    "\n",
    "\n",
    "df2 = pd.read_csv('data/countries_of_the_world.csv')\n",
    "df2['Country'] = df2['Country'].str.strip()\n",
    "display(df2)\n",
    "#display(df2['Country'])\n",
    "#display(df_small['Country'])\n",
    "#dfx = df2[['Country']].join(df_small[['Country']], lsuffix='_who', rsuffix='_kaggle')\n",
    "#dfx\n",
    "#df_merge = pd.merge(df_small, df2, on='Country',  how='left')\n",
    "#df_merge\n",
    "\n",
    "#df2 = df2.astype({'Country': 'string'})\n",
    "#df_small = df_small.astype({'Country': 'string'})\n",
    "\n",
    "#df2 = df2.set_index('Country')\n",
    "#display(df2)\n",
    "#df_small = df_small.set_index('Country')\n",
    "#display(df_small)\n",
    "\n",
    "#df_obj = df2.select_dtypes(['object'])\n",
    "#df2[df_obj.columns] = df_obj.apply(lambda x: x.str.strip())\n",
    "\n",
    "#df_obj = df_small.select_dtypes(['object'])\n",
    "#df_small[df_obj.columns] = df_obj.apply(lambda x: x.str.strip())\n",
    "\n",
    "\n",
    "\n",
    "display(df2.dtypes)\n",
    "display(df.dtypes)\n",
    "#display(df2['Country'])\n",
    "#display(df_small['Country'])\n",
    "#df_join = df_small.join(df2, lsuffix='_who', rsuffix='_kaggle')\n",
    "#df_join\n",
    "\n",
    "df_join = df.join(df2.set_index('Country'), on='Country' , how='left', lsuffix='_who', rsuffix='_kaggle')\n",
    "\n",
    "#df_join = df_small.join(df2, on='Country',  how='left', lsuffix='_who', rsuffix='_kaggle')\n",
    "df_join"
   ]
  },
  {
   "cell_type": "code",
   "execution_count": null,
   "id": "10a3f528",
   "metadata": {
    "collapsed": false
   },
   "outputs": [],
   "source": [
    "df_small = df_join[['Country','Life expectancy ', 'Alcohol', ' BMI ']]\n",
    "df_small\n",
    "df_smaller = df_join.loc[df_small['Country'].isin(['Nigeria', 'Equatorial Guinea', 'Kazakhstan', 'Paraguay', 'Colombia', 'Armenia', 'Nicaragua', 'Montenegro', 'Maledives', 'Quatar', 'Germany', 'United States of America'])]\n",
    "display(df_smaller)\n",
    "q = df_smaller[['Country', 'Life expectancy ']]\n",
    "c1 = df_smaller[['Country', 'Alcohol']]\n",
    "c2 = df_smaller[['Country', ' BMI ']]\n",
    "c3 = df_smaller[['Country', 'Area (sq. mi.)']]\n",
    "display(q)\n",
    "display(c1)\n",
    "display(c2)\n",
    "display(c3)\n"
   ]
  },
  {
   "cell_type": "code",
   "execution_count": null,
   "id": "4dd19689",
   "metadata": {
    "collapsed": false
   },
   "outputs": [],
   "source": [
    "c2.to_csv('c2.csv', index=False)\n",
    "c3.to_csv('c3.csv', index=False)\n",
    "q.to_csv('q.csv', index=False)"
   ]
  },
  {
   "cell_type": "code",
   "execution_count": null,
   "metadata": {
    "collapsed": false
   },
   "outputs": [],
   "source": []
  }
 ],
 "metadata": {
  "kernelspec": {
   "display_name": "Python 3 (ipykernel)",
   "language": "python",
   "name": "python3"
  },
  "language_info": {
   "codemirror_mode": {
    "name": "ipython",
    "version": 3
   },
   "file_extension": ".py",
   "mimetype": "text/x-python",
   "name": "python",
   "nbconvert_exporter": "python",
   "pygments_lexer": "ipython3",
   "version": "3.8.13"
  }
 },
 "nbformat": 4,
 "nbformat_minor": 5
}
