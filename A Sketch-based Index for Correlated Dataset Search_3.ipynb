{
 "cells": [
  {
   "cell_type": "markdown",
   "id": "37081b98",
   "metadata": {},
   "source": [
    "\n",
    "## A Sketch-based Index for Correlated Dataset Search\n",
    "\n",
    "### Motivation\n",
    "\n",
    "With the ever-rising amount of data available, recent researched explored queries where we want to enlarge our dataset by finding related data. This means finding the top-k tables which are joinable and correlated to our inital dataset. As these searches can be quite long they propose a more efficient and effective way of finding these tables than just naively querying over the whole data collection, which might take quite a bit. Their proposed idea has shown to achieve better results than other approaches regarding ranking accruacy and recall. \n",
    "In this notebook we want to offer you an understandable explanation of the proposed Solution and hope you are able to grasp all of it.\n",
    "\n",
    "### Discovering Data with joinable keys and correlated data.\n",
    "\n",
    "Steps of the algorithm:\n",
    "1. Build index of tables in DB\n",
    "    - Split larger tables into 2-col-tables (cross product)\n",
    "    - Create a sketch of size n of each table in the Database\n",
    "    - Build the index\n",
    "    \n",
    "    \n",
    "2. Query\n",
    "    - Create a sketch of the query table\n",
    "    - Find correlated and joinable tables for the query-table\n",
    "    "
   ]
  },
  {
   "cell_type": "markdown",
   "id": "a4604d91",
   "metadata": {},
   "source": [
    "### Building the index:\n",
    "\n",
    "1. All tables with more then 2 columns are split:\n",
    "    - All numerical columns are combined with all columns containig categorical values\n",
    "<br>\n",
    "\n",
    "2. All keys k (categorical values) per table are hashed and stored as tuple with their numeric value c_k\n",
    "    - <h(k), c_k>\n",
    "    - For performance reason the sketch size is applied here: only the smallest n hashed values are kept\n",
    "<br>\n",
    "\n",
    "3. All categorical keys (c_k) are modified according to their hashed values (h(k))\n",
    "    - If the hashed value is below or above the median of all table values, c_k is categorized in -c_k or +c_k respectively\n",
    "    - <h(k), +/-c_k>\n",
    "    - This is used to identify correlation\n",
    "<br>\n",
    "\n",
    "4. Picking a specific sample (=sketch) of size n per table, using n tuples with smallest hash-value\n",
    "    - This way the samples are comparable\n"
   ]
  },
  {
   "cell_type": "code",
   "execution_count": 1,
   "id": "a758cc10",
   "metadata": {},
   "outputs": [],
   "source": [
    "import os\n",
    "import pandas as pd\n",
    "from collections import Counter\n",
    "from collections import defaultdict\n",
    "from pathlib import Path\n",
    "from qcr import load_index, get_kc, get_c, hash_function, build_index, key_labeling, create_sketch, cross_product_tables, print_dict"
   ]
  },
  {
   "cell_type": "markdown",
   "id": "ef13162b",
   "metadata": {},
   "source": [
    "#### Step 1\n",
    "In this example we want to find data correlating to the life expectancy in certain countries. To be able to search the other tables we start by building the index. Therefore, we first load 3 tables containing example data."
   ]
  },
  {
   "cell_type": "code",
   "execution_count": 2,
   "id": "8527c238",
   "metadata": {},
   "outputs": [
    {
     "data": {
      "text/plain": "testTable                   Country    Alcohol       BMI  Area(sq.mi.)\n0                           Armenia   3.702667  44.70625       29800.0\n1                          Colombia   4.419333  49.54375     1138910.0\n2                 Equatorial Guinea   7.342000  17.85625       28051.0\n3                           Germany  11.628667  51.99375      357021.0\n4                        Kazakhstan   6.641333  45.15625     2717300.0\n5                        Montenegro   2.584286  50.48750        5333.0\n6                         Nicaragua   3.596667  42.68125      129494.0\n7                           Nigeria   8.646667  19.75000      923768.0\n8                          Paraguay   5.527333  39.52500      406750.0\n9          United States of America   8.579333  58.45000     3796742.0",
      "text/html": "<div>\n<style scoped>\n    .dataframe tbody tr th:only-of-type {\n        vertical-align: middle;\n    }\n\n    .dataframe tbody tr th {\n        vertical-align: top;\n    }\n\n    .dataframe thead th {\n        text-align: right;\n    }\n</style>\n<table border=\"1\" class=\"dataframe\">\n  <thead>\n    <tr style=\"text-align: right;\">\n      <th>testTable</th>\n      <th>Country</th>\n      <th>Alcohol</th>\n      <th>BMI</th>\n      <th>Area(sq.mi.)</th>\n    </tr>\n  </thead>\n  <tbody>\n    <tr>\n      <th>0</th>\n      <td>Armenia</td>\n      <td>3.702667</td>\n      <td>44.70625</td>\n      <td>29800.0</td>\n    </tr>\n    <tr>\n      <th>1</th>\n      <td>Colombia</td>\n      <td>4.419333</td>\n      <td>49.54375</td>\n      <td>1138910.0</td>\n    </tr>\n    <tr>\n      <th>2</th>\n      <td>Equatorial Guinea</td>\n      <td>7.342000</td>\n      <td>17.85625</td>\n      <td>28051.0</td>\n    </tr>\n    <tr>\n      <th>3</th>\n      <td>Germany</td>\n      <td>11.628667</td>\n      <td>51.99375</td>\n      <td>357021.0</td>\n    </tr>\n    <tr>\n      <th>4</th>\n      <td>Kazakhstan</td>\n      <td>6.641333</td>\n      <td>45.15625</td>\n      <td>2717300.0</td>\n    </tr>\n    <tr>\n      <th>5</th>\n      <td>Montenegro</td>\n      <td>2.584286</td>\n      <td>50.48750</td>\n      <td>5333.0</td>\n    </tr>\n    <tr>\n      <th>6</th>\n      <td>Nicaragua</td>\n      <td>3.596667</td>\n      <td>42.68125</td>\n      <td>129494.0</td>\n    </tr>\n    <tr>\n      <th>7</th>\n      <td>Nigeria</td>\n      <td>8.646667</td>\n      <td>19.75000</td>\n      <td>923768.0</td>\n    </tr>\n    <tr>\n      <th>8</th>\n      <td>Paraguay</td>\n      <td>5.527333</td>\n      <td>39.52500</td>\n      <td>406750.0</td>\n    </tr>\n    <tr>\n      <th>9</th>\n      <td>United States of America</td>\n      <td>8.579333</td>\n      <td>58.45000</td>\n      <td>3796742.0</td>\n    </tr>\n  </tbody>\n</table>\n</div>"
     },
     "metadata": {},
     "output_type": "display_data"
    }
   ],
   "source": [
    "input_table = pd.read_csv('data/test_table.csv')    # import table\n",
    "input_table.columns.name = 'testTable'             # assign name\n",
    "table_id = input_table.columns.name                 # store name for later\n",
    "display(input_table) ###Vllt weniger gut matchende Länder?"
   ]
  },
  {
   "cell_type": "markdown",
   "id": "2cb532b8",
   "metadata": {},
   "source": [
    "In order to process tables containing multiple columns, we have to split them up into sub tables consisting of a categorical column (our key) and a numerical column (feature)."
   ]
  },
  {
   "cell_type": "code",
   "execution_count": 3,
   "id": "bf3a9c59",
   "metadata": {},
   "outputs": [
    {
     "name": "stdout",
     "output_type": "stream",
     "text": [
      "cat_col:\n",
      "Country 'Armenia', 'Colombia', 'Equatorial Guinea', 'Germany',\n",
      "        'Kazakhstan', 'Montenegro', 'Nicaragua', 'Nigeria',\n",
      "        'Paraguay', 'United States of America'\n",
      "num_col:\n",
      "Alcohol 3.7026666666666666, 4.419333333333333, 7.342,\n",
      "        11.628666666666668, 6.641333333333334, 2.584285714285714,\n",
      "        3.5966666666666667, 8.646666666666667, 5.527333333333333,\n",
      "        8.579333333333333\n",
      "BMI 44.70625, 49.54375, 17.85625, 51.99375, 45.15625, 50.4875,\n",
      "    42.68125, 19.75, 39.525, 58.45\n",
      "Area(sq.mi.) 29800.0, 1138910.0, 28051.0, 357021.0, 2717300.0, 5333.0,\n",
      "             129494.0, 923768.0, 406750.0, 3796742.0\n"
     ]
    },
    {
     "data": {
      "text/plain": "testTable_Country_Alcohol                   Country    Alcohol\n0                                           Armenia   3.702667\n1                                          Colombia   4.419333\n2                                 Equatorial Guinea   7.342000\n3                                           Germany  11.628667\n4                                        Kazakhstan   6.641333\n5                                        Montenegro   2.584286\n6                                         Nicaragua   3.596667\n7                                           Nigeria   8.646667\n8                                          Paraguay   5.527333\n9                          United States of America   8.579333",
      "text/html": "<div>\n<style scoped>\n    .dataframe tbody tr th:only-of-type {\n        vertical-align: middle;\n    }\n\n    .dataframe tbody tr th {\n        vertical-align: top;\n    }\n\n    .dataframe thead th {\n        text-align: right;\n    }\n</style>\n<table border=\"1\" class=\"dataframe\">\n  <thead>\n    <tr style=\"text-align: right;\">\n      <th>testTable_Country_Alcohol</th>\n      <th>Country</th>\n      <th>Alcohol</th>\n    </tr>\n  </thead>\n  <tbody>\n    <tr>\n      <th>0</th>\n      <td>Armenia</td>\n      <td>3.702667</td>\n    </tr>\n    <tr>\n      <th>1</th>\n      <td>Colombia</td>\n      <td>4.419333</td>\n    </tr>\n    <tr>\n      <th>2</th>\n      <td>Equatorial Guinea</td>\n      <td>7.342000</td>\n    </tr>\n    <tr>\n      <th>3</th>\n      <td>Germany</td>\n      <td>11.628667</td>\n    </tr>\n    <tr>\n      <th>4</th>\n      <td>Kazakhstan</td>\n      <td>6.641333</td>\n    </tr>\n    <tr>\n      <th>5</th>\n      <td>Montenegro</td>\n      <td>2.584286</td>\n    </tr>\n    <tr>\n      <th>6</th>\n      <td>Nicaragua</td>\n      <td>3.596667</td>\n    </tr>\n    <tr>\n      <th>7</th>\n      <td>Nigeria</td>\n      <td>8.646667</td>\n    </tr>\n    <tr>\n      <th>8</th>\n      <td>Paraguay</td>\n      <td>5.527333</td>\n    </tr>\n    <tr>\n      <th>9</th>\n      <td>United States of America</td>\n      <td>8.579333</td>\n    </tr>\n  </tbody>\n</table>\n</div>"
     },
     "execution_count": 3,
     "metadata": {},
     "output_type": "execute_result"
    }
   ],
   "source": [
    "cat_col = get_kc(input_table)\n",
    "num_col = get_c(input_table)\n",
    "\n",
    "print_dict(cat_col, \"cat_col\")\n",
    "print_dict(num_col, \"num_col\")\n",
    "\n",
    "tables = cross_product_tables(cat_col, num_col, table_id)\n",
    "\n",
    "table1 = tables[0] # for out example, we only build the sketch of the first table by hand\n",
    "table1"
   ]
  },
  {
   "cell_type": "markdown",
   "id": "cba3ee91",
   "metadata": {},
   "source": [
    "As you can see, the table now consists of the only categorical column of the original table, and one of the numerical columns. Also, the table name is now testTable_Country_Alcohol. The schema for this is `<originalTableName>_<categoricalColName>_<numericColName>`. This way we can later conclude which columns of which table are correlated to our query.\n",
    "\n",
    "#\n",
    "\n",
    "#### Step 2\n",
    "Now we have tables containing only one categorical and one numerical column. <br>\n",
    "We can start hashing the categorical column. For performance reasons it is advised to limit the sketch size. <br>\n",
    "Although not necessary in this small case, we want to emphasize the scalability of this approach and use the limit of 5."
   ]
  },
  {
   "cell_type": "code",
   "execution_count": 4,
   "id": "ff6ecba6",
   "metadata": {},
   "outputs": [
    {
     "name": "stdout",
     "output_type": "stream",
     "text": [
      "testTable_Country_Alcohol                   Country    Alcohol   hashed_keys\n",
      "0                                           Armenia   3.702667 -1.040467e-39\n",
      "1                                          Colombia   4.419333 -3.321928e-41\n",
      "2                                 Equatorial Guinea   7.342000 -6.294744e-40\n",
      "3                                           Germany  11.628667  9.140805e-40\n",
      "4                                        Kazakhstan   6.641333  5.083309e-40\n",
      "5                                        Montenegro   2.584286  3.881950e-40\n",
      "6                                         Nicaragua   3.596667 -9.162508e-40\n",
      "7                                           Nigeria   8.646667  1.278178e-39\n",
      "8                                          Paraguay   5.527333  6.044821e-41\n",
      "9                          United States of America   8.579333 -3.869834e-40\n",
      "\n",
      "sketch:\n"
     ]
    },
    {
     "data": {
      "text/plain": "testTable_Country_Alcohol                   Country   Alcohol   hashed_keys\n0                                           Armenia  3.702667 -1.040467e-39\n6                                         Nicaragua  3.596667 -9.162508e-40\n2                                 Equatorial Guinea  7.342000 -6.294744e-40\n9                          United States of America  8.579333 -3.869834e-40\n1                                          Colombia  4.419333 -3.321928e-41",
      "text/html": "<div>\n<style scoped>\n    .dataframe tbody tr th:only-of-type {\n        vertical-align: middle;\n    }\n\n    .dataframe tbody tr th {\n        vertical-align: top;\n    }\n\n    .dataframe thead th {\n        text-align: right;\n    }\n</style>\n<table border=\"1\" class=\"dataframe\">\n  <thead>\n    <tr style=\"text-align: right;\">\n      <th>testTable_Country_Alcohol</th>\n      <th>Country</th>\n      <th>Alcohol</th>\n      <th>hashed_keys</th>\n    </tr>\n  </thead>\n  <tbody>\n    <tr>\n      <th>0</th>\n      <td>Armenia</td>\n      <td>3.702667</td>\n      <td>-1.040467e-39</td>\n    </tr>\n    <tr>\n      <th>6</th>\n      <td>Nicaragua</td>\n      <td>3.596667</td>\n      <td>-9.162508e-40</td>\n    </tr>\n    <tr>\n      <th>2</th>\n      <td>Equatorial Guinea</td>\n      <td>7.342000</td>\n      <td>-6.294744e-40</td>\n    </tr>\n    <tr>\n      <th>9</th>\n      <td>United States of America</td>\n      <td>8.579333</td>\n      <td>-3.869834e-40</td>\n    </tr>\n    <tr>\n      <th>1</th>\n      <td>Colombia</td>\n      <td>4.419333</td>\n      <td>-3.321928e-41</td>\n    </tr>\n  </tbody>\n</table>\n</div>"
     },
     "execution_count": 4,
     "metadata": {},
     "output_type": "execute_result"
    }
   ],
   "source": [
    "# we work on a copy of the table, to keep the variables clean for later use\n",
    "hashed_table1 = table1.copy()\n",
    "\n",
    "# create hashes\n",
    "hashed_table1['hashed_keys'] = table1['Country'].map(hash_function)\n",
    "print(hashed_table1)\n",
    "\n",
    "# apply sketch size\n",
    "sketch = hashed_table1.nsmallest(5, 'hashed_keys')\n",
    "print('\\nsketch:')\n",
    "sketch"
   ]
  },
  {
   "cell_type": "markdown",
   "id": "1a5d280e",
   "metadata": {},
   "source": [
    "The sketch of table 1 now consists of the 5 countries whose hashed keys are lowest.\n",
    "\n",
    "#\n",
    "\n",
    "#### Step 3\n",
    "Now the paper labels the hashed keys according to the mean of the values.<br>\n",
    "To increase Readability we use the actual keys instead of the hashed keys here.<br>\n",
    "Any row with its value below our mean has its key concatenated with \"-1\", while any row with its value above the mean has its key concatenated with \"+1\"."
   ]
  },
  {
   "cell_type": "code",
   "execution_count": 5,
   "id": "1f5b0479",
   "metadata": {},
   "outputs": [
    {
     "name": "stdout",
     "output_type": "stream",
     "text": [
      "testTable_Country_Alcohol                   Country   Alcohol   hashed_keys  \\\n",
      "0                                           Armenia  3.702667 -1.040467e-39   \n",
      "6                                         Nicaragua  3.596667 -9.162508e-40   \n",
      "2                                 Equatorial Guinea  7.342000 -6.294744e-40   \n",
      "9                          United States of America  8.579333 -3.869834e-40   \n",
      "1                                          Colombia  4.419333 -3.321928e-41   \n",
      "\n",
      "testTable_Country_Alcohol                labeled_keys  \n",
      "0                                           Armenia-1  \n",
      "6                                         Nicaragua-1  \n",
      "2                                 Equatorial Guinea+1  \n",
      "9                          United States of America+1  \n",
      "1                                          Colombia-1  \n"
     ]
    }
   ],
   "source": [
    "# 3. categorize keys by value and use as new key\n",
    "\n",
    "# first we calculate the mean of all values of this tables numeric column\n",
    "mean = sketch['Alcohol'].mean()\n",
    "\n",
    "# again we work on a copy of the sketch, to keep the variables clean\n",
    "labeled_sketch = sketch.copy()\n",
    "\n",
    "# then label key by > median (key+1) or < median (key-1)\n",
    "labeled_sketch['labeled_keys'] = [f'{key}{\"+1\" if value > mean else \"-1\"}' for key, value, hash_key in sketch.values]\n",
    "\n",
    "print(labeled_sketch)"
   ]
  },
  {
   "cell_type": "markdown",
   "id": "b5cfe867",
   "metadata": {},
   "source": [
    "As we can see Nicaragua and Armenia have been labeled \"-1\" and Equatorial Guinea \"+1\".<br>\n",
    "(If the labeled_keys seem to be in a second table: this is not the case. The table is simply split into two lines, if it is too wide for the screen.)\n",
    "\n",
    "#\n",
    "\n",
    "#### Step 4\n",
    "We finally can complete the construction of our inverted index by merging our sketches into our full inverted index. "
   ]
  },
  {
   "cell_type": "code",
   "execution_count": 6,
   "id": "e02f0139",
   "metadata": {
    "scrolled": true
   },
   "outputs": [
    {
     "name": "stdout",
     "output_type": "stream",
     "text": [
      "inverted index:\n",
      "Armenia-1 {'testTable_Country_Alcohol'}\n",
      "Nicaragua-1 {'testTable_Country_Alcohol'}\n",
      "Equatorial Guinea+1 {'testTable_Country_Alcohol'}\n",
      "United States of America+1 {'testTable_Country_Alcohol'}\n",
      "Colombia-1 {'testTable_Country_Alcohol'}\n"
     ]
    }
   ],
   "source": [
    "table_id = labeled_sketch.columns.name\n",
    "\n",
    "# initialize new inverted index\n",
    "inverted_index = defaultdict(set)\n",
    "\n",
    "# now each labed key (=term) is inserted into the dict with the table name it came from\n",
    "for term in labeled_sketch['labeled_keys']:\n",
    "    inverted_index[term].add(table_id)\n",
    "\n",
    "print_dict(inverted_index, \"inverted index\")"
   ]
  },
  {
   "cell_type": "markdown",
   "id": "aa9e98b9",
   "metadata": {},
   "source": [
    "As we can see the keys chosen from the table by the sketch have been tagged and are saved with a reference to the table they originate from. <br>\n",
    "We now want to build the sketch for our whole database. Our Code provides the build_index function which performs the above shown procedure for a list of tables and merges them into one index.<br>\n",
    "It also stores the index as a pickle file on disc. In case there is an old file stored, we remove that connection.\n",
    "\n"
   ]
  },
  {
   "cell_type": "code",
   "execution_count": 7,
   "id": "68d99b1f",
   "metadata": {},
   "outputs": [
    {
     "name": "stdout",
     "output_type": "stream",
     "text": [
      "inverted Index:\n",
      "Armenia+1 {'testTable_Country_BMI'}\n",
      "Armenia-1 {'testTable_Country_Alcohol',\n",
      "          'testTable_Country_Area(sq.mi.)'}\n",
      "Colombia+1 {'testTable_Country_BMI', 'testTable_Country_Area(sq.mi.)'}\n",
      "Colombia-1 {'testTable_Country_Alcohol'}\n",
      "Equatorial Guinea+1 {'testTable_Country_Alcohol'}\n",
      "Equatorial Guinea-1 {'testTable_Country_BMI',\n",
      "                    'testTable_Country_Area(sq.mi.)'}\n",
      "Nicaragua+1 {'testTable_Country_BMI'}\n",
      "Nicaragua-1 {'testTable_Country_Alcohol',\n",
      "            'testTable_Country_Area(sq.mi.)'}\n",
      "United States of America+1 {'testTable_Country_Alcohol',\n",
      "                           'testTable_Country_BMI',\n",
      "                           'testTable_Country_Area(sq.mi.)'}\n"
     ]
    }
   ],
   "source": [
    "# delete old inverted index in case it exists\n",
    "if os.path.exists(\"index.pickle\"):\n",
    "    Path(\"index.pickle\").unlink()\n",
    "\n",
    "# build index of all sub-tables of the original input-table\n",
    "build_index([input_table] ,n=5)\n",
    "inverted_index = load_index()\n",
    "inverted_index = dict(sorted(inverted_index.items()))  # sort index for better comparison\n",
    "\n",
    "print_dict(inverted_index, 'inverted Index')"
   ]
  },
  {
   "cell_type": "markdown",
   "id": "02ce9cd5",
   "metadata": {},
   "source": [
    "This is now our inverted index for the given tables using the sketch size of 5. We can see that Armenia has an above average value in table 2, so its inhabitants have a BMI above the average of the sketched countries. On the other hand its size and Alcohol consumption is below average. <br>\n",
    "\n",
    "So, having completed the construction of our index for the database, we can search over the inverted index using our query table. \n",
    "\n",
    "#\n",
    "\n",
    "### Querying the index\n",
    "As we also had tables with countries as a categorical value, we must use them here too. So we decide to search for values correlated to our initial values, having the same categorical value.\n",
    "\n",
    "#### Step 1\n",
    "\n",
    "We start by building the inverted index for the sketch of our query data."
   ]
  },
  {
   "cell_type": "code",
   "execution_count": 8,
   "id": "a40af0a3",
   "metadata": {},
   "outputs": [
    {
     "data": {
      "text/plain": "q                   Country  Life expectancy \n0                   Armenia          73.40000\n1                  Colombia          73.28750\n2         Equatorial Guinea          55.31250\n3                   Germany          81.17500\n4                Kazakhstan          66.76250\n5                Montenegro          74.50000\n6                 Nicaragua          73.45000\n7                   Nigeria          51.35625\n8                  Paraguay          73.11250\n9  United States of America          78.06250",
      "text/html": "<div>\n<style scoped>\n    .dataframe tbody tr th:only-of-type {\n        vertical-align: middle;\n    }\n\n    .dataframe tbody tr th {\n        vertical-align: top;\n    }\n\n    .dataframe thead th {\n        text-align: right;\n    }\n</style>\n<table border=\"1\" class=\"dataframe\">\n  <thead>\n    <tr style=\"text-align: right;\">\n      <th>q</th>\n      <th>Country</th>\n      <th>Life expectancy</th>\n    </tr>\n  </thead>\n  <tbody>\n    <tr>\n      <th>0</th>\n      <td>Armenia</td>\n      <td>73.40000</td>\n    </tr>\n    <tr>\n      <th>1</th>\n      <td>Colombia</td>\n      <td>73.28750</td>\n    </tr>\n    <tr>\n      <th>2</th>\n      <td>Equatorial Guinea</td>\n      <td>55.31250</td>\n    </tr>\n    <tr>\n      <th>3</th>\n      <td>Germany</td>\n      <td>81.17500</td>\n    </tr>\n    <tr>\n      <th>4</th>\n      <td>Kazakhstan</td>\n      <td>66.76250</td>\n    </tr>\n    <tr>\n      <th>5</th>\n      <td>Montenegro</td>\n      <td>74.50000</td>\n    </tr>\n    <tr>\n      <th>6</th>\n      <td>Nicaragua</td>\n      <td>73.45000</td>\n    </tr>\n    <tr>\n      <th>7</th>\n      <td>Nigeria</td>\n      <td>51.35625</td>\n    </tr>\n    <tr>\n      <th>8</th>\n      <td>Paraguay</td>\n      <td>73.11250</td>\n    </tr>\n    <tr>\n      <th>9</th>\n      <td>United States of America</td>\n      <td>78.06250</td>\n    </tr>\n  </tbody>\n</table>\n</div>"
     },
     "metadata": {},
     "output_type": "display_data"
    }
   ],
   "source": [
    "# load query table: (key & target)\n",
    "query = pd.read_csv('data/q.csv')\n",
    "query.columns.name = 'q'\n",
    "display(query)\n",
    "\n"
   ]
  },
  {
   "cell_type": "markdown",
   "id": "02d22ffb",
   "metadata": {},
   "source": [
    "As we can see this table has a categorical and a numercial column. We therefore can use it to search our inverted index. Here we want to find tables containing value correlated to our target column (Life expectancy)."
   ]
  },
  {
   "cell_type": "code",
   "execution_count": 9,
   "id": "2b779e05",
   "metadata": {},
   "outputs": [
    {
     "name": "stdout",
     "output_type": "stream",
     "text": [
      "search terms:\n"
     ]
    },
    {
     "data": {
      "text/plain": "['Armenia+1',\n 'Nicaragua+1',\n 'Equatorial Guinea-1',\n 'United States of America+1',\n 'Colombia+1']"
     },
     "execution_count": 9,
     "metadata": {},
     "output_type": "execute_result"
    }
   ],
   "source": [
    "# as above:\n",
    "# 1. build sketch of query table\n",
    "sketch = create_sketch(query['Country'], query['Life expectancy '], hash_function, n=5)\n",
    "# 2. generate terms\n",
    "search_terms = key_labeling(sketch)\n",
    "print(\"search terms:\")\n",
    "search_terms"
   ]
  },
  {
   "cell_type": "markdown",
   "id": "6099bbaf",
   "metadata": {},
   "source": [
    "### Negative correlation\n",
    "As we also might be interested in negative correlation, we negate the values and build a second set of labeled keys.\n",
    "This results in two query tables: one for positive correlation, one for negative."
   ]
  },
  {
   "cell_type": "code",
   "execution_count": 10,
   "id": "4a2f449e",
   "metadata": {},
   "outputs": [
    {
     "name": "stdout",
     "output_type": "stream",
     "text": [
      "inverse search terms:\n"
     ]
    },
    {
     "data": {
      "text/plain": "['Armenia-1',\n 'Nicaragua-1',\n 'Equatorial Guinea+1',\n 'United States of America-1',\n 'Colombia-1']"
     },
     "execution_count": 10,
     "metadata": {},
     "output_type": "execute_result"
    }
   ],
   "source": [
    "\n",
    "inverse_search_terms = key_labeling(\n",
    "    list(map((lambda key_value: (key_value[0], -key_value[1])), sketch))\n",
    "    ) # same function as above, input key is inverted\n",
    "print(\"inverse search terms:\")\n",
    "inverse_search_terms"
   ]
  },
  {
   "cell_type": "markdown",
   "id": "5ca4055e",
   "metadata": {},
   "source": [
    "#### Step 2\n",
    "Using our new search terms, we can now query the index. We then count which table comes up how often in the results.\n",
    "we limit the output to the ten most correlated tables"
   ]
  },
  {
   "cell_type": "code",
   "execution_count": 11,
   "id": "b3eb81da",
   "metadata": {},
   "outputs": [
    {
     "data": {
      "text/plain": "[('+:testTable_Country_BMI', 5),\n ('-:testTable_Country_Alcohol', 4),\n ('+:testTable_Country_Area(sq.mi.)', 3),\n ('-:testTable_Country_Area(sq.mi.)', 2),\n ('+:testTable_Country_Alcohol', 1)]"
     },
     "execution_count": 11,
     "metadata": {},
     "output_type": "execute_result"
    }
   ],
   "source": [
    "\n",
    "inverted_index = load_index()\n",
    "\n",
    "result = Counter()\n",
    "result.update(\n",
    "    \"+:\" + table_id for term in search_terms for table_id in inverted_index[term]\n",
    ")\n",
    "result.update(\n",
    "    \"-:\" + table_id for term in inverse_search_terms for table_id in inverted_index[term]\n",
    ")\n",
    "\n",
    "sketch = result.most_common(10)\n",
    "sketch"
   ]
  },
  {
   "cell_type": "markdown",
   "id": "35d58ab2",
   "metadata": {},
   "source": [
    "### So, what do these results show us? <br>\n",
    "Our first entry is of the country-bmi column combination. The \"+\" indicates a positive correlation, concatenated to the tableID. The 5 at the end shows that 5 entries of the sketch of this table match the query tables entries and are marked the same according to the sketches averages. This tells us, that the values are correlated (when one rises, the other does too). Therefore, the table is likely to enrich our data.<br>\n",
    "For the country-alcohol column combination are 4 negative correlated entries and 1 positive correlated. Although not as clearly correlated as the first table, it might still be useful to join them to enrich our data.<br>\n",
    "For the country-area column combination, there are 3 positively and 2 negatively correlated entries. This is almost a 50/50 distribution, therefore the values might just a well be random. It would be unwise to add these columns as they might not help us predict our target value. <br>\n",
    "We have now decided to join our query table with the BMI column, as it's highly correlated and also join with the Alcohol column which still has a high enough chance to provide informational gain."
   ]
  },
  {
   "cell_type": "code",
   "execution_count": 14,
   "id": "690a0e0d",
   "metadata": {},
   "outputs": [
    {
     "data": {
      "text/plain": "                    Country  Life expectancy        BMI    Alcohol\n0                   Armenia          73.40000  44.70625   3.702667\n1                  Colombia          73.28750  49.54375   4.419333\n2         Equatorial Guinea          55.31250  17.85625   7.342000\n3                   Germany          81.17500  51.99375  11.628667\n4                Kazakhstan          66.76250  45.15625   6.641333\n5                Montenegro          74.50000  50.48750   2.584286\n6                 Nicaragua          73.45000  42.68125   3.596667\n7                   Nigeria          51.35625  19.75000   8.646667\n8                  Paraguay          73.11250  39.52500   5.527333\n9  United States of America          78.06250  58.45000   8.579333",
      "text/html": "<div>\n<style scoped>\n    .dataframe tbody tr th:only-of-type {\n        vertical-align: middle;\n    }\n\n    .dataframe tbody tr th {\n        vertical-align: top;\n    }\n\n    .dataframe thead th {\n        text-align: right;\n    }\n</style>\n<table border=\"1\" class=\"dataframe\">\n  <thead>\n    <tr style=\"text-align: right;\">\n      <th></th>\n      <th>Country</th>\n      <th>Life expectancy</th>\n      <th>BMI</th>\n      <th>Alcohol</th>\n    </tr>\n  </thead>\n  <tbody>\n    <tr>\n      <th>0</th>\n      <td>Armenia</td>\n      <td>73.40000</td>\n      <td>44.70625</td>\n      <td>3.702667</td>\n    </tr>\n    <tr>\n      <th>1</th>\n      <td>Colombia</td>\n      <td>73.28750</td>\n      <td>49.54375</td>\n      <td>4.419333</td>\n    </tr>\n    <tr>\n      <th>2</th>\n      <td>Equatorial Guinea</td>\n      <td>55.31250</td>\n      <td>17.85625</td>\n      <td>7.342000</td>\n    </tr>\n    <tr>\n      <th>3</th>\n      <td>Germany</td>\n      <td>81.17500</td>\n      <td>51.99375</td>\n      <td>11.628667</td>\n    </tr>\n    <tr>\n      <th>4</th>\n      <td>Kazakhstan</td>\n      <td>66.76250</td>\n      <td>45.15625</td>\n      <td>6.641333</td>\n    </tr>\n    <tr>\n      <th>5</th>\n      <td>Montenegro</td>\n      <td>74.50000</td>\n      <td>50.48750</td>\n      <td>2.584286</td>\n    </tr>\n    <tr>\n      <th>6</th>\n      <td>Nicaragua</td>\n      <td>73.45000</td>\n      <td>42.68125</td>\n      <td>3.596667</td>\n    </tr>\n    <tr>\n      <th>7</th>\n      <td>Nigeria</td>\n      <td>51.35625</td>\n      <td>19.75000</td>\n      <td>8.646667</td>\n    </tr>\n    <tr>\n      <th>8</th>\n      <td>Paraguay</td>\n      <td>73.11250</td>\n      <td>39.52500</td>\n      <td>5.527333</td>\n    </tr>\n    <tr>\n      <th>9</th>\n      <td>United States of America</td>\n      <td>78.06250</td>\n      <td>58.45000</td>\n      <td>8.579333</td>\n    </tr>\n  </tbody>\n</table>\n</div>"
     },
     "execution_count": 14,
     "metadata": {},
     "output_type": "execute_result"
    }
   ],
   "source": [
    "result = query.join(input_table[['Country','BMI']].set_index('Country'), on='Country' , how='left', lsuffix='_who', rsuffix='_kaggle')\n",
    "\n",
    "result = result.join(input_table[['Country','Alcohol']].set_index('Country'), on='Country' , how='left', lsuffix='_who', rsuffix='_kaggle')\n",
    "\n",
    "result"
   ]
  },
  {
   "cell_type": "markdown",
   "id": "6d4a7858",
   "metadata": {},
   "source": [
    "### Conclusion\n",
    "\n",
    "With our new, enriched dataset we can now proceed with our machine learning task, or which ever plans we pursue.<br>\n",
    "In this notebook we showed how the approach proposed in the paper works and outlined its advantages towards naive implementations. It is noteable that the procedure takes correlation and inability into account.\n",
    "Joinability of categorical columns is secured, by using these categorical columns for keys in the inverted index. Marking the distribution of the values and comparing them with the search columns numeric values ensures that the output tables & columns correlate.\n",
    " Experiments with this approach have shown to improve recall and accuracy."
   ]
  },
  {
   "cell_type": "code",
   "execution_count": null,
   "outputs": [],
   "source": [],
   "metadata": {
    "collapsed": false
   }
  }
 ],
 "metadata": {
  "kernelspec": {
   "display_name": "Python 3 (ipykernel)",
   "language": "python",
   "name": "python3"
  },
  "language_info": {
   "codemirror_mode": {
    "name": "ipython",
    "version": 3
   },
   "file_extension": ".py",
   "mimetype": "text/x-python",
   "name": "python",
   "nbconvert_exporter": "python",
   "pygments_lexer": "ipython3",
   "version": "3.9.13"
  },
  "vscode": {
   "interpreter": {
    "hash": "46e4a47807dea1f1b7eb10382ac3f4f68ec1e3bb8974f18e6e746c4898b6fcc3"
   }
  }
 },
 "nbformat": 4,
 "nbformat_minor": 5
}
